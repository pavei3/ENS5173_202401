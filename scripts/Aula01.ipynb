{
 "cells": [
  {
   "cell_type": "markdown",
   "id": "9bae00c0-e1a6-4932-b83e-63d36ad10cde",
   "metadata": {},
   "source": [
    "# Aula 03/04/2024 - Comandos básicos no Python\n",
    "\n",
    "Nesta aula aprenderemos a importar pacotes e os tipos de variáveis \\\n",
    "Desenvolvedor: Bruno Pavei\n"
   ]
  },
  {
   "cell_type": "markdown",
   "id": "ffa1de08-01ef-4fd3-9523-58bd26022587",
   "metadata": {},
   "source": [
    "## Tipos de variáveis"
   ]
  },
  {
   "cell_type": "code",
   "execution_count": 11,
   "id": "ac6d47d3-b09f-4422-9c2d-61f2d77d4178",
   "metadata": {},
   "outputs": [
    {
     "name": "stdout",
     "output_type": "stream",
     "text": [
      "a=1.0\n",
      "<class 'float'>\n"
     ]
    }
   ],
   "source": [
    "#Criando variáveis inteiras\n",
    "a=1.0\n",
    "print('a='+str(a))\n",
    "print(type(a))\n"
   ]
  },
  {
   "cell_type": "code",
   "execution_count": 16,
   "id": "48903d44-c267-4492-bcaf-0f9e061e6de7",
   "metadata": {},
   "outputs": [
    {
     "name": "stdout",
     "output_type": "stream",
     "text": [
      "Salve o Corinthians\n",
      "<class 'str'>\n"
     ]
    }
   ],
   "source": [
    "#Criando variáveis string\n",
    "b='Salve o '\n",
    "c='Corinthians'\n",
    "print(b+c)\n",
    "print(type(b))"
   ]
  },
  {
   "cell_type": "code",
   "execution_count": 17,
   "id": "b1c40ab7-298c-4b90-82d8-6c0ad8a38382",
   "metadata": {},
   "outputs": [
    {
     "name": "stdout",
     "output_type": "stream",
     "text": [
      "666.666\n",
      "<class 'float'>\n"
     ]
    }
   ],
   "source": [
    "#Criando variáveis float/double\n",
    "d=666.666\n",
    "print(d)\n",
    "print(type(d))"
   ]
  }
 ],
 "metadata": {
  "kernelspec": {
   "display_name": "Python 3 (ipykernel)",
   "language": "python",
   "name": "python3"
  },
  "language_info": {
   "codemirror_mode": {
    "name": "ipython",
    "version": 3
   },
   "file_extension": ".py",
   "mimetype": "text/x-python",
   "name": "python",
   "nbconvert_exporter": "python",
   "pygments_lexer": "ipython3",
   "version": "3.11.8"
  }
 },
 "nbformat": 4,
 "nbformat_minor": 5
}
