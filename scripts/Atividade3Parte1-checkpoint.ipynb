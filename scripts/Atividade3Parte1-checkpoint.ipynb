{
 "cells": [
  {
   "cell_type": "markdown",
   "id": "23ae831d-b3c4-4156-bfd1-f1b373a02202",
   "metadata": {},
   "source": [
    "# Atividade 3 parte 1"
   ]
  },
  {
   "cell_type": "markdown",
   "id": "df9f0111-94cb-4743-9717-33cdfe8c88be",
   "metadata": {},
   "source": [
    "## Determinando classes de Pasquill"
   ]
  },
  {
   "cell_type": "code",
   "execution_count": 56,
   "id": "0209112b-f9c9-4e51-802a-b9afac10e255",
   "metadata": {},
   "outputs": [
    {
     "name": "stdout",
     "output_type": "stream",
     "text": [
      "Classe de Pasquill: B-C\n",
      "Classe de Pasquill: D\n",
      "Classe de Pasquill: D\n"
     ]
    }
   ],
   "source": [
    "def determinar_classe_pasquill(velocidade_vento, periodo, radiacao=None, cobertura_nuvens=None):\n",
    "    if periodo == \"diurno\":\n",
    "        if radiacao is None:\n",
    "            raise ValueError(\"Para o período diurno, a radiação solar deve ser fornecida.\")\n",
    "        \n",
    "        if velocidade_vento < 2:\n",
    "            if radiacao > 700:\n",
    "                return \"A\"\n",
    "            elif 350 < radiacao <= 700:\n",
    "                return \"A-B\"\n",
    "            else:\n",
    "                return \"B\"\n",
    "        elif 2 <= velocidade_vento < 3:\n",
    "            if radiacao > 700:\n",
    "                return \"A-B\"\n",
    "            elif 350 < radiacao <= 700:\n",
    "                return \"B\"\n",
    "            else:\n",
    "                return \"C\"\n",
    "        elif 3 <= velocidade_vento < 5:\n",
    "            if radiacao > 700:\n",
    "                return \"B\"\n",
    "            elif 350 < radiacao <= 700:\n",
    "                return \"B-C\"\n",
    "            else:\n",
    "                return \"C\"\n",
    "        elif 5 <= velocidade_vento < 6:\n",
    "            if radiacao > 700:\n",
    "                return \"C\"\n",
    "            elif 350 < radiacao <= 700:\n",
    "                return \"C-D\"\n",
    "            else:\n",
    "                return \"D\"\n",
    "        else: # velocidade_vento >= 6\n",
    "            if radiacao > 700:\n",
    "                return \"D\"\n",
    "            elif 350 < radiacao <= 700:\n",
    "                return \"D\"\n",
    "            else:\n",
    "                return \"D\"\n",
    "\n",
    "    elif periodo == \"noturno\":\n",
    "        if cobertura_nuvens is None:\n",
    "            raise ValueError(\"Para o período noturno, o grau de cobertura de nuvens deve ser fornecido.\")\n",
    "        \n",
    "        if cobertura_nuvens >= 4/8:\n",
    "            if velocidade_vento < 2:\n",
    "                return \"-\"\n",
    "            elif 2 <= velocidade_vento < 3:\n",
    "                return \"E\"\n",
    "            elif 3 <= velocidade_vento < 5:\n",
    "                return \"D\"\n",
    "            else: # velocidade_vento >= 5\n",
    "                return \"D\"\n",
    "        else: # cobertura_nuvens <= 3/8\n",
    "            if velocidade_vento < 2:\n",
    "                return \"-\"\n",
    "            elif 2 <= velocidade_vento < 3:\n",
    "                return \"F\"\n",
    "            elif 3 <= velocidade_vento < 5:\n",
    "                return \"E\"\n",
    "            else: # velocidade_vento >= 5\n",
    "                return \"D\"\n",
    "\n",
    "    else: # Tempo encoberto (dia ou noite)\n",
    "        if velocidade_vento < 2:\n",
    "            return \"D\"\n",
    "        elif 2 <= velocidade_vento < 3:\n",
    "            return \"D\"\n",
    "        elif 3 <= velocidade_vento < 5:\n",
    "            return \"D\"\n",
    "        else: # velocidade_vento >= 5\n",
    "            return \"D\"\n",
    "\n",
    "# Exemplos de uso\n",
    "classe1=determinar_classe_pasquill(3.6, 'diurno', radiacao=400) # Saída esperada: B-C\n",
    "classe2=determinar_classe_pasquill(4, 'noturno', cobertura_nuvens=5/8) # Saída esperada: D\n",
    "classe3=determinar_classe_pasquill(1, 'encoberto') # Saída esperada: D\n",
    "print(f'Classe de Pasquill: {classe1}')\n",
    "print(f'Classe de Pasquill: {classe2}')\n",
    "print(f'Classe de Pasquill: {classe3}')"
   ]
  },
  {
   "cell_type": "markdown",
   "id": "54c38776-1c51-4bc5-a6d3-eb519b9e8f33",
   "metadata": {},
   "source": [
    "## Calculado sigmaY e sigmaZ"
   ]
  },
  {
   "cell_type": "code",
   "execution_count": 57,
   "id": "9da8350f-28e6-4c73-8277-c09a1c111048",
   "metadata": {},
   "outputs": [
    {
     "name": "stdout",
     "output_type": "stream",
     "text": [
      "O valor de sigmaY é: 923.7604307034012m\n",
      "O valor de sigmaZ é: 2939.3876913398135m\n"
     ]
    }
   ],
   "source": [
    "# Criando função da estimativa da dispersão lateral e vertical da pluma\n",
    "def sigmaXY(x,classe,urbOrRural):\n",
    "    if urbOrRural=='urbano':\n",
    "        if classe==\"A\" or classe==\"B\" or classe==\"C\" or classe==\"D\" or classe==\"E\" or classe==\"F\":\n",
    "            if (classe=='A') or (classe=='B'):\n",
    "                sigmaY = 0.32*x*(1+0.0004*x)**(-0.5)\n",
    "                sigmaZ = 0.24*x*(1+0.001*x)**(0.5)\n",
    "            if (classe=='C'):\n",
    "                sigmaY = 0.22*x*(1+0.0004*x)**(-0.5)\n",
    "                sigmaZ = 0.20*x \n",
    "            if (classe=='D'):\n",
    "                sigmaY = 0.16*x*(1+0.0004*x)**(-0.5)\n",
    "                sigmaZ = 0.14*x*(1+0.0003*x)**(-0.5)\n",
    "            if (classe=='E') or (classe=='F'):\n",
    "                sigmaY = 0.11*x*(1+0.0004*x)**(-0.5)\n",
    "                sigmaZ = 0.08*x*(1+0.0015*x)**(-0.5)\n",
    "        else:\n",
    "            print('Classe de estabilidade errada')\n",
    "    if urbOrRural=='rural':\n",
    "        if classe==\"A\" or classe==\"B\" or classe==\"C\" or classe==\"D\" or classe==\"E\" or classe==\"F\":\n",
    "            if (classe=='A') :\n",
    "                sigmaY = 0.22*x*(1+0.0001*x)**(-0.5)\n",
    "                sigmaZ = 0.20*x\n",
    "            if (classe=='B') :\n",
    "                sigmaY = 0.16*x*(1+0.0001*x)**(-0.5)\n",
    "                sigmaZ = 0.12*x\n",
    "            if (classe=='C') :\n",
    "                sigmaY = 0.11*x*(1+0.0001*x)**(-0.5)\n",
    "                sigmaZ = 0.08*x*(1+0.0002*x)**(-0.5)\n",
    "            if (classe=='D') :\n",
    "                sigmaY = 0.08*x*(1+0.0001*x)**(-0.5)\n",
    "                sigmaZ = 0.06*x*(1+0.0015*x)**(-0.5)\n",
    "            if (classe=='E') :\n",
    "                sigmaY = 0.06*x*(1+0.0001*x)**(-0.5)\n",
    "                sigmaZ = 0.03*x*(1+0.0003*x)**(-1)\n",
    "            if (classe=='F') :\n",
    "                sigmaY = 0.04*x*(1+0.0001*x)**(-0.5)\n",
    "                sigmaZ = 0.016*x*(1+0.0003*x)**(-1)\n",
    "        else:\n",
    "            print('Classe de estabilidade errada. Fique ligado')\n",
    "    return sigmaY,sigmaZ\n",
    "\n",
    "sigmaY, sigmaZ = sigmaXY(5000,\"A\",\"urbano\")\n",
    "print(f\"O valor de sigmaY é: {sigmaY}m\")\n",
    "print(f\"O valor de sigmaZ é: {sigmaZ}m\")\n"
   ]
  },
  {
   "cell_type": "markdown",
   "id": "8aa2de97-f2b8-477c-9dbf-d04a90f12590",
   "metadata": {},
   "source": [
    "## DeltaH por Davidson-Bryant"
   ]
  },
  {
   "cell_type": "code",
   "execution_count": 58,
   "id": "54dd817c-6bb7-4e60-aa99-a37f69efd812",
   "metadata": {},
   "outputs": [
    {
     "name": "stdout",
     "output_type": "stream",
     "text": [
      "Valor de deltaH: 3.138289085081478m\n"
     ]
    }
   ],
   "source": [
    "def deltaHbryan(d,vs,u,Ts,Tamb): #d=diâmetro chaminé, vs=vel. na chaminé, Ts= temp. na saída da chaminé\n",
    "    deltaH = (d*(vs/u)**(1.4))*(1+(Ts-Tamb)/Ts)\n",
    "    return deltaH\n",
    "d=1 #m\n",
    "vs=10 #m/s\n",
    "u=5 #m/s\n",
    "Ts=370 #K\n",
    "Tamb=300 #K\n",
    "hg=30 #m\n",
    "deltaH=deltaHbryan(d,vs,u,Ts,Tamb)\n",
    "print(f'Valor de deltaH: {deltaH}m')"
   ]
  },
  {
   "cell_type": "markdown",
   "id": "d3ba23ac-8fec-448e-862f-e2264ff6d88d",
   "metadata": {},
   "source": [
    "## Efeito tip downwash"
   ]
  },
  {
   "cell_type": "code",
   "execution_count": 59,
   "id": "b0948fb3-4501-45a4-a633-337ecfda1548",
   "metadata": {},
   "outputs": [],
   "source": [
    "def tipdown(hg,d,vs,u):\n",
    "    hgreal=hg+2*d*((vs/u)-1.5)\n",
    "    return hgreal"
   ]
  },
  {
   "cell_type": "code",
   "execution_count": 60,
   "id": "292c0cd7-4f4e-4842-8d5d-930f31599160",
   "metadata": {},
   "outputs": [
    {
     "name": "stdout",
     "output_type": "stream",
     "text": [
      "hg: 30m\n",
      "deltaH: 3.138289085081478m\n",
      "H: 33.13828908508148m\n"
     ]
    }
   ],
   "source": [
    "if vs<1.5*u:\n",
    "    hgreal=tipdown(hg,d,vs,u)\n",
    "    H=hgreal+deltaH\n",
    "    print(f'hgreal: {hgreal}m')\n",
    "    print(f'deltaH: {deltaH}m')\n",
    "    print(f'H: {H}m')\n",
    "else:\n",
    "    H=hg+deltaH\n",
    "    print(f'hg: {hg}m')\n",
    "    print(f'deltaH: {deltaH}m')\n",
    "    print(f'H: {H}m')\n",
    "\n"
   ]
  },
  {
   "cell_type": "markdown",
   "id": "1368aff4-8522-4667-a8c2-daa140902294",
   "metadata": {},
   "source": [
    "## Criando uma função do modelo gaussiano"
   ]
  },
  {
   "cell_type": "code",
   "execution_count": 61,
   "id": "3438d16e-ebe1-496e-96df-b2c036906f61",
   "metadata": {},
   "outputs": [],
   "source": [
    "# Criando uma função do modelo gaussiano\n",
    "import numpy as np\n",
    "def modeloGaussiano(qs,sigmaY,sigmaZ,u,y,z,H):\n",
    "    termo1 = qs/(2*np.pi*sigmaY*sigmaZ*u)\n",
    "    termo2 = np.exp((-y**2)/(2*sigmaY**2))\n",
    "    termo3 = np.exp((-(z-H)**2)/(2*sigmaZ**2)) + np.exp((-(z+H)**2)/(2*sigmaZ**2))\n",
    "    conc = termo1*termo2*termo3\n",
    "    conc = conc*10**6\n",
    "    return conc"
   ]
  },
  {
   "cell_type": "code",
   "execution_count": 70,
   "id": "ac309696-0c6e-47cb-86c1-133d9764fdf0",
   "metadata": {},
   "outputs": [
    {
     "name": "stdout",
     "output_type": "stream",
     "text": [
      "qs: 100 g/s\n",
      "sigmaY: 923.7604307034012 m\n",
      "sigmaZ: 2939.3876913398135 m\n",
      "u: 5 m/s\n",
      "y: 0 m\n",
      "z: 1.5 m\n",
      "H: 33.13828908508148 m\n",
      "\n",
      "A concentração C estimada é = 2.3444244415418147 g/m³\n"
     ]
    }
   ],
   "source": [
    "# Utilizando a função do modelo gaussiano\n",
    "qs = 100 # g/s\n",
    "y = 0 # estimando na direção do vento\n",
    "z = 1.5 # altura do nariz\n",
    "\n",
    "print(f'qs: {qs} g/s')\n",
    "print(f'sigmaY: {sigmaY} m')\n",
    "print(f'sigmaZ: {sigmaZ} m')\n",
    "print(f'u: {u} m/s')\n",
    "print(f'y: {y} m')\n",
    "print(f'z: {z} m')\n",
    "print(f'H: {H} m')\n",
    "\n",
    "# Chamando a função do modelo gaussiano\n",
    "C = modeloGaussiano(qs,sigmaY,sigmaZ,u,y,z,H)\n",
    "\n",
    "print(f\"\\nA concentração C estimada é = {C} g/m³\")"
   ]
  }
 ],
 "metadata": {
  "kernelspec": {
   "display_name": "Python 3 (ipykernel)",
   "language": "python",
   "name": "python3"
  },
  "language_info": {
   "codemirror_mode": {
    "name": "ipython",
    "version": 3
   },
   "file_extension": ".py",
   "mimetype": "text/x-python",
   "name": "python",
   "nbconvert_exporter": "python",
   "pygments_lexer": "ipython3",
   "version": "3.11.8"
  }
 },
 "nbformat": 4,
 "nbformat_minor": 5
}
