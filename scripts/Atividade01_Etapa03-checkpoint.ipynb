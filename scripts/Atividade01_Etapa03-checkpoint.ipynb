{
 "cells": [
  {
   "cell_type": "markdown",
   "id": "5a5adecf-db94-4ca7-bae1-227dd2430d84",
   "metadata": {},
   "source": [
    "# Etapa 03"
   ]
  },
  {
   "cell_type": "markdown",
   "id": "01a1ec97-fde7-4a41-bf04-0de6c9d4c517",
   "metadata": {},
   "source": [
    "Usando como base uma notícia do google, uma empresa X em criciúma produziu aproximadamente 50 mil toneladas de carvão em 1 mês."
   ]
  },
  {
   "cell_type": "code",
   "execution_count": 45,
   "id": "c342423a-f2ba-4086-a013-81cc3f0a6581",
   "metadata": {},
   "outputs": [
    {
     "name": "stdout",
     "output_type": "stream",
     "text": [
      "[[0.02037474]\n",
      " [0.33073019]\n",
      " [0.41913194]\n",
      " [0.33006747]\n",
      " [0.46568683]]\n"
     ]
    }
   ],
   "source": [
    "import numpy as np\n",
    "#Criando vetor de dados aleatórios para 5 anos\n",
    "valor=np.random.rand(61,1)\n",
    "print(valor[0:5])"
   ]
  },
  {
   "cell_type": "code",
   "execution_count": 46,
   "id": "f6807a98-06c7-4278-8fde-e6ca58c25083",
   "metadata": {},
   "outputs": [
    {
     "name": "stdout",
     "output_type": "stream",
     "text": [
      "[[21426.23201386]\n",
      " [43151.11315436]\n",
      " [49339.23591268]\n",
      " [43104.72315481]\n",
      " [52598.07844632]]\n"
     ]
    }
   ],
   "source": [
    "valormax=90000\n",
    "valormin=20000\n",
    "valor=(valormax-valormin)*valor+valormin\n",
    "print(valor[0:5])"
   ]
  },
  {
   "cell_type": "code",
   "execution_count": 47,
   "id": "49858ad5-7466-4e29-a9e2-280987a198e4",
   "metadata": {},
   "outputs": [
    {
     "name": "stdout",
     "output_type": "stream",
     "text": [
      "['2013-01' '2013-02' '2013-03' '2013-04' '2013-05' '2013-06' '2013-07'\n",
      " '2013-08' '2013-09' '2013-10' '2013-11' '2013-12' '2014-01' '2014-02'\n",
      " '2014-03' '2014-04' '2014-05' '2014-06' '2014-07' '2014-08' '2014-09'\n",
      " '2014-10' '2014-11' '2014-12' '2015-01' '2015-02' '2015-03' '2015-04'\n",
      " '2015-05' '2015-06' '2015-07' '2015-08' '2015-09' '2015-10' '2015-11'\n",
      " '2015-12' '2016-01' '2016-02' '2016-03' '2016-04' '2016-05' '2016-06'\n",
      " '2016-07' '2016-08' '2016-09' '2016-10' '2016-11' '2016-12' '2017-01'\n",
      " '2017-02' '2017-03' '2017-04' '2017-05' '2017-06' '2017-07' '2017-08'\n",
      " '2017-09' '2017-10' '2017-11' '2017-12' '2018-01']\n"
     ]
    }
   ],
   "source": [
    "#Criando valores dos anos e meses\n",
    "tempo = np.arange(np.datetime64(\"2013-01\"), np.datetime64(\"2018-02\"), np.timedelta64(1, \"M\"))\n",
    "print(tempo)"
   ]
  },
  {
   "cell_type": "code",
   "execution_count": 49,
   "id": "81d43a1e-e0c4-4697-8f6c-c73f1fa90fdc",
   "metadata": {},
   "outputs": [
    {
     "data": {
      "text/html": [
       "<div>\n",
       "<style scoped>\n",
       "    .dataframe tbody tr th:only-of-type {\n",
       "        vertical-align: middle;\n",
       "    }\n",
       "\n",
       "    .dataframe tbody tr th {\n",
       "        vertical-align: top;\n",
       "    }\n",
       "\n",
       "    .dataframe thead th {\n",
       "        text-align: right;\n",
       "    }\n",
       "</style>\n",
       "<table border=\"1\" class=\"dataframe\">\n",
       "  <thead>\n",
       "    <tr style=\"text-align: right;\">\n",
       "      <th></th>\n",
       "      <th>Data</th>\n",
       "      <th>Carvão (t)</th>\n",
       "    </tr>\n",
       "  </thead>\n",
       "  <tbody>\n",
       "    <tr>\n",
       "      <th>0</th>\n",
       "      <td>2013-01-01</td>\n",
       "      <td>21426.232014</td>\n",
       "    </tr>\n",
       "    <tr>\n",
       "      <th>1</th>\n",
       "      <td>2013-02-01</td>\n",
       "      <td>43151.113154</td>\n",
       "    </tr>\n",
       "    <tr>\n",
       "      <th>2</th>\n",
       "      <td>2013-03-01</td>\n",
       "      <td>49339.235913</td>\n",
       "    </tr>\n",
       "    <tr>\n",
       "      <th>3</th>\n",
       "      <td>2013-04-01</td>\n",
       "      <td>43104.723155</td>\n",
       "    </tr>\n",
       "    <tr>\n",
       "      <th>4</th>\n",
       "      <td>2013-05-01</td>\n",
       "      <td>52598.078446</td>\n",
       "    </tr>\n",
       "    <tr>\n",
       "      <th>...</th>\n",
       "      <td>...</td>\n",
       "      <td>...</td>\n",
       "    </tr>\n",
       "    <tr>\n",
       "      <th>56</th>\n",
       "      <td>2017-09-01</td>\n",
       "      <td>73248.832052</td>\n",
       "    </tr>\n",
       "    <tr>\n",
       "      <th>57</th>\n",
       "      <td>2017-10-01</td>\n",
       "      <td>43007.284658</td>\n",
       "    </tr>\n",
       "    <tr>\n",
       "      <th>58</th>\n",
       "      <td>2017-11-01</td>\n",
       "      <td>23394.086152</td>\n",
       "    </tr>\n",
       "    <tr>\n",
       "      <th>59</th>\n",
       "      <td>2017-12-01</td>\n",
       "      <td>84260.228573</td>\n",
       "    </tr>\n",
       "    <tr>\n",
       "      <th>60</th>\n",
       "      <td>2018-01-01</td>\n",
       "      <td>77681.702667</td>\n",
       "    </tr>\n",
       "  </tbody>\n",
       "</table>\n",
       "<p>61 rows × 2 columns</p>\n",
       "</div>"
      ],
      "text/plain": [
       "         Data    Carvão (t)\n",
       "0  2013-01-01  21426.232014\n",
       "1  2013-02-01  43151.113154\n",
       "2  2013-03-01  49339.235913\n",
       "3  2013-04-01  43104.723155\n",
       "4  2013-05-01  52598.078446\n",
       "..        ...           ...\n",
       "56 2017-09-01  73248.832052\n",
       "57 2017-10-01  43007.284658\n",
       "58 2017-11-01  23394.086152\n",
       "59 2017-12-01  84260.228573\n",
       "60 2018-01-01  77681.702667\n",
       "\n",
       "[61 rows x 2 columns]"
      ]
     },
     "metadata": {},
     "output_type": "display_data"
    }
   ],
   "source": [
    "import pandas as pd\n",
    "\n",
    "df=pd.DataFrame()\n",
    "df['Data'] = tempo\n",
    "df['Carvão (t)'] = valor\n",
    "display(df)"
   ]
  },
  {
   "cell_type": "code",
   "execution_count": 51,
   "id": "81c70316-85ec-4c70-bb73-328df3047974",
   "metadata": {},
   "outputs": [
    {
     "data": {
      "text/html": [
       "<div>\n",
       "<style scoped>\n",
       "    .dataframe tbody tr th:only-of-type {\n",
       "        vertical-align: middle;\n",
       "    }\n",
       "\n",
       "    .dataframe tbody tr th {\n",
       "        vertical-align: top;\n",
       "    }\n",
       "\n",
       "    .dataframe thead th {\n",
       "        text-align: right;\n",
       "    }\n",
       "</style>\n",
       "<table border=\"1\" class=\"dataframe\">\n",
       "  <thead>\n",
       "    <tr style=\"text-align: right;\">\n",
       "      <th></th>\n",
       "      <th>Data</th>\n",
       "      <th>Carvão (t)</th>\n",
       "    </tr>\n",
       "    <tr>\n",
       "      <th>Data</th>\n",
       "      <th></th>\n",
       "      <th></th>\n",
       "    </tr>\n",
       "  </thead>\n",
       "  <tbody>\n",
       "    <tr>\n",
       "      <th>2013-01-01</th>\n",
       "      <td>2013-01-01</td>\n",
       "      <td>21426.232014</td>\n",
       "    </tr>\n",
       "    <tr>\n",
       "      <th>2013-02-01</th>\n",
       "      <td>2013-02-01</td>\n",
       "      <td>43151.113154</td>\n",
       "    </tr>\n",
       "    <tr>\n",
       "      <th>2013-03-01</th>\n",
       "      <td>2013-03-01</td>\n",
       "      <td>49339.235913</td>\n",
       "    </tr>\n",
       "    <tr>\n",
       "      <th>2013-04-01</th>\n",
       "      <td>2013-04-01</td>\n",
       "      <td>43104.723155</td>\n",
       "    </tr>\n",
       "    <tr>\n",
       "      <th>2013-05-01</th>\n",
       "      <td>2013-05-01</td>\n",
       "      <td>52598.078446</td>\n",
       "    </tr>\n",
       "    <tr>\n",
       "      <th>...</th>\n",
       "      <td>...</td>\n",
       "      <td>...</td>\n",
       "    </tr>\n",
       "    <tr>\n",
       "      <th>2017-09-01</th>\n",
       "      <td>2017-09-01</td>\n",
       "      <td>73248.832052</td>\n",
       "    </tr>\n",
       "    <tr>\n",
       "      <th>2017-10-01</th>\n",
       "      <td>2017-10-01</td>\n",
       "      <td>43007.284658</td>\n",
       "    </tr>\n",
       "    <tr>\n",
       "      <th>2017-11-01</th>\n",
       "      <td>2017-11-01</td>\n",
       "      <td>23394.086152</td>\n",
       "    </tr>\n",
       "    <tr>\n",
       "      <th>2017-12-01</th>\n",
       "      <td>2017-12-01</td>\n",
       "      <td>84260.228573</td>\n",
       "    </tr>\n",
       "    <tr>\n",
       "      <th>2018-01-01</th>\n",
       "      <td>2018-01-01</td>\n",
       "      <td>77681.702667</td>\n",
       "    </tr>\n",
       "  </tbody>\n",
       "</table>\n",
       "<p>61 rows × 2 columns</p>\n",
       "</div>"
      ],
      "text/plain": [
       "                 Data    Carvão (t)\n",
       "Data                               \n",
       "2013-01-01 2013-01-01  21426.232014\n",
       "2013-02-01 2013-02-01  43151.113154\n",
       "2013-03-01 2013-03-01  49339.235913\n",
       "2013-04-01 2013-04-01  43104.723155\n",
       "2013-05-01 2013-05-01  52598.078446\n",
       "...               ...           ...\n",
       "2017-09-01 2017-09-01  73248.832052\n",
       "2017-10-01 2017-10-01  43007.284658\n",
       "2017-11-01 2017-11-01  23394.086152\n",
       "2017-12-01 2017-12-01  84260.228573\n",
       "2018-01-01 2018-01-01  77681.702667\n",
       "\n",
       "[61 rows x 2 columns]"
      ]
     },
     "metadata": {},
     "output_type": "display_data"
    }
   ],
   "source": [
    "df=df.set_index(df['Data'])\n",
    "display(df)"
   ]
  },
  {
   "cell_type": "code",
   "execution_count": 55,
   "id": "7426c956-f5ee-4e79-96c4-0b212c6df9a7",
   "metadata": {},
   "outputs": [
    {
     "data": {
      "text/plain": [
       "<Axes: xlabel='Data'>"
      ]
     },
     "execution_count": 55,
     "metadata": {},
     "output_type": "execute_result"
    },
    {
     "data": {
      "image/png": "[encoded data removed]",
      "text/plain": [
       "<Figure size 640x480 with 1 Axes>"
      ]
     },
     "metadata": {},
     "output_type": "display_data"
    }
   ],
   "source": [
    "df['Carvão (t)'].plot(color='magenta')\n"
   ]
  }
 ],
 "metadata": {
  "kernelspec": {
   "display_name": "Python 3 (ipykernel)",
   "language": "python",
   "name": "python3"
  },
  "language_info": {
   "codemirror_mode": {
    "name": "ipython",
    "version": 3
   },
   "file_extension": ".py",
   "mimetype": "text/x-python",
   "name": "python",
   "nbconvert_exporter": "python",
   "pygments_lexer": "ipython3",
   "version": "3.11.8"
  }
 },
 "nbformat": 4,
 "nbformat_minor": 5
}
