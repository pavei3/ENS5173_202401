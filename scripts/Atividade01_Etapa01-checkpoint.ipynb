{
 "cells": [
  {
   "cell_type": "markdown",
   "id": "ce79c822-e692-41fd-9b06-740fc517b89c",
   "metadata": {},
   "source": [
    "# Aula 02 - Python\n",
    "## Dados numéricos\n"
   ]
  },
  {
   "cell_type": "code",
   "execution_count": 35,
   "id": "b0f94bb7-1fd6-4f03-ba27-e5154d5c8b64",
   "metadata": {},
   "outputs": [
    {
     "name": "stdout",
     "output_type": "stream",
     "text": [
      "Valor de a = 1\n"
     ]
    },
    {
     "data": {
      "text/plain": [
       "int"
      ]
     },
     "execution_count": 35,
     "metadata": {},
     "output_type": "execute_result"
    }
   ],
   "source": [
    "# Variável inteira\n",
    "a = 1\n",
    "print('Valor de a =',a)\n",
    "type(a)"
   ]
  },
  {
   "cell_type": "code",
   "execution_count": 36,
   "id": "9086b9c2-8ad3-489d-b3b0-673053d71030",
   "metadata": {},
   "outputs": [
    {
     "name": "stdout",
     "output_type": "stream",
     "text": [
      "1.0\n"
     ]
    },
    {
     "data": {
      "text/plain": [
       "float"
      ]
     },
     "execution_count": 36,
     "metadata": {},
     "output_type": "execute_result"
    }
   ],
   "source": [
    "# Variável dupla precisão\n",
    "b=1.0\n",
    "print(b)\n",
    "type(b)"
   ]
  },
  {
   "cell_type": "code",
   "execution_count": 37,
   "id": "c1a7078f-8ef0-42c8-9a86-b3409ad6c805",
   "metadata": {},
   "outputs": [
    {
     "name": "stdout",
     "output_type": "stream",
     "text": [
      "1\n"
     ]
    },
    {
     "data": {
      "text/plain": [
       "int"
      ]
     },
     "execution_count": 37,
     "metadata": {},
     "output_type": "execute_result"
    }
   ],
   "source": [
    "# Conveter float para int\n",
    "c=int(b)\n",
    "print(c)\n",
    "type(c)"
   ]
  },
  {
   "cell_type": "code",
   "execution_count": 38,
   "id": "3f946c8c-9c1c-42c1-aeff-6b40e00c25d4",
   "metadata": {},
   "outputs": [
    {
     "name": "stdout",
     "output_type": "stream",
     "text": [
      "2\n"
     ]
    },
    {
     "data": {
      "text/plain": [
       "int"
      ]
     },
     "execution_count": 38,
     "metadata": {},
     "output_type": "execute_result"
    }
   ],
   "source": [
    "b=2.99\n",
    "c=int(b)\n",
    "print(c)\n",
    "type(c)"
   ]
  },
  {
   "cell_type": "markdown",
   "id": "145d40c4-0b32-411e-a272-ec5ac2de4d01",
   "metadata": {},
   "source": [
    "Números inteiros e decimais são tipos diferentes para ajudar no processamento da máquina, transformando float para int ele vai usar o primeiro número da esquerda para direita como base (3,44 vira 3, e 3,99 vira 3 também)"
   ]
  },
  {
   "cell_type": "code",
   "execution_count": 39,
   "id": "0b82057e-af93-48f6-82d9-18fa7af78af3",
   "metadata": {},
   "outputs": [
    {
     "name": "stdout",
     "output_type": "stream",
     "text": [
      "nan\n"
     ]
    },
    {
     "data": {
      "text/plain": [
       "float"
      ]
     },
     "execution_count": 39,
     "metadata": {},
     "output_type": "execute_result"
    }
   ],
   "source": [
    "# Declarando nan\n",
    "import numpy as np\n",
    "d=np.nan\n",
    "print(d)\n",
    "type(d)"
   ]
  },
  {
   "cell_type": "code",
   "execution_count": 40,
   "id": "ca1232df-69ae-4ed2-8cce-e15d52d7c36f",
   "metadata": {},
   "outputs": [
    {
     "name": "stdout",
     "output_type": "stream",
     "text": [
      "nan\n",
      "nan\n",
      "1.0\n"
     ]
    }
   ],
   "source": [
    "# Operação com Nan\n",
    "e=d*1\n",
    "print(e)\n",
    "e=d+1\n",
    "print(e)\n",
    "e=np.nansum([d,1])\n",
    "print(e)"
   ]
  },
  {
   "cell_type": "markdown",
   "id": "df8d9a96-bff8-4a76-92d0-22dae94869f6",
   "metadata": {},
   "source": [
    "## Dados de texto"
   ]
  },
  {
   "cell_type": "code",
   "execution_count": 41,
   "id": "d0bda61e-70a2-4cfd-a47a-0095a1b885c4",
   "metadata": {},
   "outputs": [
    {
     "name": "stdout",
     "output_type": "stream",
     "text": [
      "Fábio\n",
      "Gabriel\n",
      "FábioGabriel\n",
      "Fábio Gabriel\n"
     ]
    }
   ],
   "source": [
    "# Declaração de variável texto\n",
    "f = 'Fábio'\n",
    "g = 'Gabriel'\n",
    "print(f)\n",
    "print(g)\n",
    "print(f+g)\n",
    "print(f+' '+g)"
   ]
  },
  {
   "cell_type": "markdown",
   "id": "35270277-09a5-4692-969a-1433dfe9b50f",
   "metadata": {},
   "source": [
    "A linguagem entende que quando entre '' em um print, não é variável"
   ]
  },
  {
   "cell_type": "markdown",
   "id": "76764be2-e9fd-4bd5-bc6d-00c3996eb5fc",
   "metadata": {},
   "source": [
    "## Dados tipo bool - lógica"
   ]
  },
  {
   "cell_type": "code",
   "execution_count": 42,
   "id": "ade915ad-9478-4245-b199-cc74275bbe67",
   "metadata": {},
   "outputs": [
    {
     "data": {
      "text/plain": [
       "True"
      ]
     },
     "execution_count": 42,
     "metadata": {},
     "output_type": "execute_result"
    }
   ],
   "source": [
    "a == 1"
   ]
  },
  {
   "cell_type": "code",
   "execution_count": 43,
   "id": "67bc0366-3340-476c-98ec-94838d480418",
   "metadata": {},
   "outputs": [
    {
     "name": "stdout",
     "output_type": "stream",
     "text": [
      "True\n"
     ]
    },
    {
     "data": {
      "text/plain": [
       "bool"
      ]
     },
     "execution_count": 43,
     "metadata": {},
     "output_type": "execute_result"
    }
   ],
   "source": [
    "h = (a==1)\n",
    "print(h)\n",
    "type(h)"
   ]
  },
  {
   "cell_type": "markdown",
   "id": "29ba71ee-5148-4956-b29c-32ab15cbd61c",
   "metadata": {},
   "source": [
    "Bool é usado para dizer se algo é true ou false"
   ]
  },
  {
   "cell_type": "code",
   "execution_count": 44,
   "id": "cac86d84-a2b7-4318-873e-877f0d45a0c7",
   "metadata": {},
   "outputs": [
    {
     "name": "stdout",
     "output_type": "stream",
     "text": [
      "False\n"
     ]
    },
    {
     "data": {
      "text/plain": [
       "bool"
      ]
     },
     "execution_count": 44,
     "metadata": {},
     "output_type": "execute_result"
    }
   ],
   "source": [
    "h = (a==2)\n",
    "print(h)\n",
    "type(h)"
   ]
  },
  {
   "cell_type": "code",
   "execution_count": 45,
   "id": "527b9d5a-ebb6-463a-8dd1-865f37877f67",
   "metadata": {},
   "outputs": [
    {
     "data": {
      "text/plain": [
       "bool"
      ]
     },
     "execution_count": 45,
     "metadata": {},
     "output_type": "execute_result"
    }
   ],
   "source": [
    "i = True\n",
    "type(i)"
   ]
  },
  {
   "cell_type": "code",
   "execution_count": 46,
   "id": "3818cdfb-14cc-4756-b0c9-7253ecc02fb9",
   "metadata": {},
   "outputs": [
    {
     "data": {
      "text/plain": [
       "str"
      ]
     },
     "execution_count": 46,
     "metadata": {},
     "output_type": "execute_result"
    }
   ],
   "source": [
    "ii='True'\n",
    "type(ii)"
   ]
  },
  {
   "cell_type": "markdown",
   "id": "221aa4c8-dcfd-4b74-8eaf-0a57d89bc410",
   "metadata": {},
   "source": [
    "Ao colocar aspas no True, ele passar a ser um texto que é uma string"
   ]
  },
  {
   "cell_type": "markdown",
   "id": "7701ce07-008c-46ed-a422-e9387781d86c",
   "metadata": {},
   "source": [
    "## Operação de comparação\n",
    "a=1 e b=1.0"
   ]
  },
  {
   "cell_type": "code",
   "execution_count": 47,
   "id": "742d0299-9606-4310-b324-4968c16b156c",
   "metadata": {},
   "outputs": [
    {
     "data": {
      "text/plain": [
       "False"
      ]
     },
     "execution_count": 47,
     "metadata": {},
     "output_type": "execute_result"
    }
   ],
   "source": [
    "# Operação ==\n",
    "a==b"
   ]
  },
  {
   "cell_type": "code",
   "execution_count": 48,
   "id": "23dc43c9-cc16-4664-ab63-8a23f035cf2e",
   "metadata": {},
   "outputs": [
    {
     "data": {
      "text/plain": [
       "False"
      ]
     },
     "execution_count": 48,
     "metadata": {},
     "output_type": "execute_result"
    }
   ],
   "source": [
    "# Operação ><\n",
    "a>b"
   ]
  },
  {
   "cell_type": "code",
   "execution_count": 49,
   "id": "1380e303-10a5-47cc-b14a-e007e0f4494e",
   "metadata": {},
   "outputs": [
    {
     "data": {
      "text/plain": [
       "True"
      ]
     },
     "execution_count": 49,
     "metadata": {},
     "output_type": "execute_result"
    }
   ],
   "source": [
    "# Operação !=\n",
    "a!=b"
   ]
  },
  {
   "cell_type": "code",
   "execution_count": 50,
   "id": "44f49185-18cf-4dee-9530-e733784ac4a8",
   "metadata": {},
   "outputs": [
    {
     "data": {
      "text/plain": [
       "False"
      ]
     },
     "execution_count": 50,
     "metadata": {},
     "output_type": "execute_result"
    }
   ],
   "source": [
    "# Operação >= ou =<\n",
    "a>=b"
   ]
  },
  {
   "cell_type": "markdown",
   "id": "3a998448-801a-40ae-b03a-cc60024f00e1",
   "metadata": {},
   "source": [
    "## Operações matemáticas"
   ]
  },
  {
   "cell_type": "code",
   "execution_count": 51,
   "id": "3cff14de-b365-4c32-a990-d70d867674e8",
   "metadata": {},
   "outputs": [
    {
     "data": {
      "text/plain": [
       "3.99"
      ]
     },
     "execution_count": 51,
     "metadata": {},
     "output_type": "execute_result"
    }
   ],
   "source": [
    "# Soma \n",
    "a+b"
   ]
  },
  {
   "cell_type": "code",
   "execution_count": 52,
   "id": "2e0720dc-1081-4425-8899-07cdea214c39",
   "metadata": {},
   "outputs": [
    {
     "name": "stdout",
     "output_type": "stream",
     "text": [
      "3.99\n"
     ]
    }
   ],
   "source": [
    "# Soma e atribui valor\n",
    "ab=a+b\n",
    "print(ab)"
   ]
  },
  {
   "cell_type": "code",
   "execution_count": 53,
   "id": "d4f6ab3b-226e-4be3-8126-366a164acd95",
   "metadata": {},
   "outputs": [
    {
     "name": "stdout",
     "output_type": "stream",
     "text": [
      "Não use l como nome de variável\n",
      "2.99\n"
     ]
    }
   ],
   "source": [
    "# Multiplicação\n",
    "l=a*b # Não use l como variável\n",
    "print('Não use l como nome de variável')\n",
    "j=a*b\n",
    "print(j)"
   ]
  },
  {
   "cell_type": "code",
   "execution_count": 54,
   "id": "b3065266-c92e-4858-a2ba-fb4006bcfedf",
   "metadata": {},
   "outputs": [
    {
     "data": {
      "text/plain": [
       "0.33444816053511706"
      ]
     },
     "execution_count": 54,
     "metadata": {},
     "output_type": "execute_result"
    }
   ],
   "source": [
    "# Divisão\n",
    "a/b"
   ]
  },
  {
   "cell_type": "code",
   "execution_count": 55,
   "id": "49159647-b725-4d20-b06e-394efa55cdb3",
   "metadata": {},
   "outputs": [
    {
     "data": {
      "text/plain": [
       "32"
      ]
     },
     "execution_count": 55,
     "metadata": {},
     "output_type": "execute_result"
    }
   ],
   "source": [
    "# Potência\n",
    "2**5"
   ]
  },
  {
   "cell_type": "code",
   "execution_count": 56,
   "id": "0233f4fb-8d16-4098-9cc4-c8f656d69a94",
   "metadata": {},
   "outputs": [
    {
     "data": {
      "text/plain": [
       "22026.465794806718"
      ]
     },
     "execution_count": 56,
     "metadata": {},
     "output_type": "execute_result"
    }
   ],
   "source": [
    "# Operações matemáticas com a biblioteca math\n",
    "import math\n",
    "math.exp(10)"
   ]
  },
  {
   "cell_type": "code",
   "execution_count": 57,
   "id": "f8d14851-41f8-444a-8ca2-1a74a11a0d03",
   "metadata": {},
   "outputs": [
    {
     "data": {
      "text/plain": [
       "1.0"
      ]
     },
     "execution_count": 57,
     "metadata": {},
     "output_type": "execute_result"
    }
   ],
   "source": [
    "math.exp(0)"
   ]
  },
  {
   "cell_type": "code",
   "execution_count": 58,
   "id": "ca67245f-1bcf-4d50-874a-af16a9f351d2",
   "metadata": {},
   "outputs": [
    {
     "data": {
      "text/plain": [
       "19.88568249156473"
      ]
     },
     "execution_count": 58,
     "metadata": {},
     "output_type": "execute_result"
    }
   ],
   "source": [
    "math.exp(b)"
   ]
  },
  {
   "cell_type": "code",
   "execution_count": 68,
   "id": "f8dd547d-071b-44e7-a0a5-3cf3b7f4a367",
   "metadata": {},
   "outputs": [
    {
     "data": {
      "text/plain": [
       "0.3010299956639812"
      ]
     },
     "execution_count": 68,
     "metadata": {},
     "output_type": "execute_result"
    }
   ],
   "source": [
    "import math as mt\n",
    "mt.log10(c)"
   ]
  },
  {
   "cell_type": "code",
   "execution_count": 67,
   "id": "4b59303a-9ad6-4183-bca2-273b938daf04",
   "metadata": {},
   "outputs": [
    {
     "data": {
      "text/plain": [
       "4.605170185988092"
      ]
     },
     "execution_count": 67,
     "metadata": {},
     "output_type": "execute_result"
    }
   ],
   "source": [
    "mt.log(100)"
   ]
  },
  {
   "cell_type": "code",
   "execution_count": 69,
   "id": "b36eba33-5f32-415c-bac3-e50d2fc4e69c",
   "metadata": {},
   "outputs": [
    {
     "data": {
      "text/plain": [
       "0.6931471805599453"
      ]
     },
     "execution_count": 69,
     "metadata": {},
     "output_type": "execute_result"
    }
   ],
   "source": [
    "mt.log(c)"
   ]
  },
  {
   "cell_type": "markdown",
   "id": "500ba971-3fb2-46c7-adb9-6ff43b478522",
   "metadata": {},
   "source": [
    "O .log da na base 'e', e o .log10 da na base 10."
   ]
  },
  {
   "cell_type": "markdown",
   "id": "b2154326-bcbd-490a-bbd8-bc4d243b113a",
   "metadata": {},
   "source": [
    "## Listas"
   ]
  },
  {
   "cell_type": "code",
   "execution_count": 76,
   "id": "253a4ae3-63bf-4942-a49d-c0c7ecc1c00f",
   "metadata": {},
   "outputs": [
    {
     "name": "stdout",
     "output_type": "stream",
     "text": [
      "[1, 2, 3]\n"
     ]
    }
   ],
   "source": [
    "mfl=[1,2,3]\n",
    "print(mfl)"
   ]
  },
  {
   "cell_type": "code",
   "execution_count": 77,
   "id": "d39fc7b4-4d65-4257-8115-bde50a343ded",
   "metadata": {},
   "outputs": [
    {
     "name": "stdout",
     "output_type": "stream",
     "text": [
      "[1, 2, 3]\n"
     ]
    }
   ],
   "source": [
    "mfl=[1, 2, 3]\n",
    "print(mfl)"
   ]
  },
  {
   "cell_type": "code",
   "execution_count": 83,
   "id": "8f8cac23-cf44-4506-bdcf-a947f22b0b3f",
   "metadata": {},
   "outputs": [
    {
     "name": "stdout",
     "output_type": "stream",
     "text": [
      "1 3\n"
     ]
    }
   ],
   "source": [
    "# Acessando valores da lista pelo index\n",
    "print(mfl[0], mfl[2])"
   ]
  },
  {
   "cell_type": "markdown",
   "id": "81d07d0f-8351-4d8c-9e58-181c87b0e10e",
   "metadata": {},
   "source": [
    "Index da lista começa no 0 "
   ]
  },
  {
   "cell_type": "code",
   "execution_count": 84,
   "id": "5dbfbc37-ac4f-47a4-b702-7d033ccea8a3",
   "metadata": {},
   "outputs": [
    {
     "data": {
      "text/plain": [
       "False"
      ]
     },
     "execution_count": 84,
     "metadata": {},
     "output_type": "execute_result"
    }
   ],
   "source": [
    "mfl==a"
   ]
  },
  {
   "cell_type": "code",
   "execution_count": 85,
   "id": "91a3f028-9e0a-49ce-b56d-15d2ffcb1519",
   "metadata": {},
   "outputs": [
    {
     "data": {
      "text/plain": [
       "True"
      ]
     },
     "execution_count": 85,
     "metadata": {},
     "output_type": "execute_result"
    }
   ],
   "source": [
    "mfl[0]==a"
   ]
  },
  {
   "cell_type": "code",
   "execution_count": 86,
   "id": "2afcb6f6-ecd2-4b66-8c3d-c0108ce3767b",
   "metadata": {},
   "outputs": [
    {
     "name": "stdout",
     "output_type": "stream",
     "text": [
      "[1, 1, 'c']\n"
     ]
    }
   ],
   "source": [
    "msl=[1,a,'c']\n",
    "print(msl)"
   ]
  },
  {
   "cell_type": "code",
   "execution_count": 87,
   "id": "063c4ff1-8833-4655-bb77-430e5caa5360",
   "metadata": {},
   "outputs": [
    {
     "data": {
      "text/plain": [
       "list"
      ]
     },
     "execution_count": 87,
     "metadata": {},
     "output_type": "execute_result"
    }
   ],
   "source": [
    "type(msl)"
   ]
  },
  {
   "cell_type": "code",
   "execution_count": 89,
   "id": "90d2a536-52ab-434e-9330-649298fcdbc8",
   "metadata": {},
   "outputs": [
    {
     "data": {
      "text/plain": [
       "str"
      ]
     },
     "execution_count": 89,
     "metadata": {},
     "output_type": "execute_result"
    }
   ],
   "source": [
    "type(msl[2])"
   ]
  },
  {
   "cell_type": "code",
   "execution_count": 90,
   "id": "9734ddc6-55fe-41b3-a2fa-bd91a285d47e",
   "metadata": {},
   "outputs": [
    {
     "data": {
      "text/plain": [
       "int"
      ]
     },
     "execution_count": 90,
     "metadata": {},
     "output_type": "execute_result"
    }
   ],
   "source": [
    "type(msl[1])"
   ]
  },
  {
   "cell_type": "markdown",
   "id": "d736a229-4855-4f6b-a6bc-05ce68e8c9c0",
   "metadata": {},
   "source": [
    "## Caminhos = path"
   ]
  },
  {
   "cell_type": "code",
   "execution_count": 92,
   "id": "93d4dcc1-cf7c-49bf-af25-f5185c27a823",
   "metadata": {},
   "outputs": [
    {
     "name": "stdout",
     "output_type": "stream",
     "text": [
      "C:\\Users\\supor\\OneDrive\\Documentos\\ControlePoluicaoAtm\\ENS5173_202401\n"
     ]
    }
   ],
   "source": [
    "path = r\"C:\\Users\\supor\\OneDrive\\Documentos\\ControlePoluicaoAtm\\ENS5173_202401\"\n",
    "print(path)"
   ]
  },
  {
   "cell_type": "code",
   "execution_count": 96,
   "id": "503a2684-00c8-4461-b766-6f17d2ba600d",
   "metadata": {},
   "outputs": [
    {
     "name": "stdout",
     "output_type": "stream",
     "text": [
      "C:/Users/supor/OneDrive/Documentos/ControlePoluicaoAtm/ENS5173_202401\n"
     ]
    }
   ],
   "source": [
    "path = \"C:/Users/supor/OneDrive/Documentos/ControlePoluicaoAtm/ENS5173_202401\"\n",
    "print(path)"
   ]
  },
  {
   "cell_type": "code",
   "execution_count": 98,
   "id": "4d94493a-deda-40c3-98b3-733fd4f1712b",
   "metadata": {},
   "outputs": [
    {
     "data": {
      "text/plain": [
       "['.git',\n",
       " '.gitignore',\n",
       " '.ipynb_checkpoints',\n",
       " 'Atividade1-checkpoint.ipynb',\n",
       " 'Aula01.ipynb',\n",
       " 'inputs',\n",
       " 'README.md',\n",
       " 'scripts',\n",
       " 'venv']"
      ]
     },
     "execution_count": 98,
     "metadata": {},
     "output_type": "execute_result"
    }
   ],
   "source": [
    "import os\n",
    "# listar arquivos na pasta\n",
    "os.listdir(path)"
   ]
  },
  {
   "cell_type": "code",
   "execution_count": 99,
   "id": "56950e8a-def0-4010-8544-1258e4574cf4",
   "metadata": {},
   "outputs": [
    {
     "data": {
      "text/plain": [
       "'.git'"
      ]
     },
     "execution_count": 99,
     "metadata": {},
     "output_type": "execute_result"
    }
   ],
   "source": [
    "# Selecionar primeiro arquivo listado\n",
    "os.listdir(path)[0]"
   ]
  },
  {
   "cell_type": "code",
   "execution_count": 100,
   "id": "b19d589b-66d3-455a-a5f0-1987863d2c4d",
   "metadata": {},
   "outputs": [
    {
     "data": {
      "text/plain": [
       "'C:/Users/supor/OneDrive/Documentos/ControlePoluicaoAtm/ENS5173_202401/.git'"
      ]
     },
     "execution_count": 100,
     "metadata": {},
     "output_type": "execute_result"
    }
   ],
   "source": [
    "# Concatenando caminhos\n",
    "path+\"/\"+os.listdir(path)[0]"
   ]
  },
  {
   "cell_type": "code",
   "execution_count": 103,
   "id": "d003fc79-a46a-4e6e-a08e-df5d4d572197",
   "metadata": {},
   "outputs": [
    {
     "data": {
      "text/plain": [
       "['COMMIT_EDITMSG',\n",
       " 'config',\n",
       " 'description',\n",
       " 'FETCH_HEAD',\n",
       " 'HEAD',\n",
       " 'hooks',\n",
       " 'index',\n",
       " 'info',\n",
       " 'logs',\n",
       " 'objects',\n",
       " 'packed-refs',\n",
       " 'refs']"
      ]
     },
     "execution_count": 103,
     "metadata": {},
     "output_type": "execute_result"
    }
   ],
   "source": [
    "# Listando caminho concatenado\n",
    "os.listdir(path+\"/\"+os.listdir(path)[0])"
   ]
  },
  {
   "cell_type": "code",
   "execution_count": 104,
   "id": "19a7436a-69a5-4fb9-aacc-d0e2c3a2ee92",
   "metadata": {},
   "outputs": [
    {
     "data": {
      "text/plain": [
       "'C:\\\\Users\\\\supor\\\\OneDrive\\\\Documentos\\\\ControlePoluicaoAtm\\\\ENS5173_202401\\\\venv\\\\Scripts'"
      ]
     },
     "execution_count": 104,
     "metadata": {},
     "output_type": "execute_result"
    }
   ],
   "source": [
    "# Diretório que estou trabalhando\n",
    "os.getcwd()"
   ]
  },
  {
   "cell_type": "code",
   "execution_count": 108,
   "id": "f88c029d-1d13-43af-8a92-4fae67d62ffc",
   "metadata": {},
   "outputs": [],
   "source": [
    "# Mudo de diretório para o caminho\n",
    "os.chdir('C:\\\\Users\\\\supor\\\\OneDrive\\\\Documentos\\\\ControlePoluicaoAtm\\\\ENS5173_202401')"
   ]
  },
  {
   "cell_type": "code",
   "execution_count": 111,
   "id": "5d045b99-a5a1-4115-a989-e8967ee4fea2",
   "metadata": {},
   "outputs": [
    {
     "data": {
      "text/plain": [
       "'C:\\\\Users\\\\supor\\\\OneDrive\\\\Documentos\\\\ControlePoluicaoAtm\\\\ENS5173_202401'"
      ]
     },
     "execution_count": 111,
     "metadata": {},
     "output_type": "execute_result"
    }
   ],
   "source": [
    "os.getcwd()"
   ]
  },
  {
   "cell_type": "code",
   "execution_count": 114,
   "id": "63378a0e-048f-49c6-9300-c5506e7bdaf8",
   "metadata": {},
   "outputs": [],
   "source": [
    "os.chdir(\"C:\\\\Users\\\\supor\\\\OneDrive\\\\Documentos\")"
   ]
  },
  {
   "cell_type": "code",
   "execution_count": 115,
   "id": "01a8fffa-9843-466a-9613-857313ff6cbd",
   "metadata": {},
   "outputs": [
    {
     "data": {
      "text/plain": [
       "'C:\\\\Users\\\\supor\\\\OneDrive\\\\Documentos'"
      ]
     },
     "execution_count": 115,
     "metadata": {},
     "output_type": "execute_result"
    }
   ],
   "source": [
    "os.getcwd()"
   ]
  },
  {
   "cell_type": "code",
   "execution_count": 121,
   "id": "db25a275-3162-4a95-9ae9-03e27570fe7c",
   "metadata": {},
   "outputs": [
    {
     "name": "stdout",
     "output_type": "stream",
     "text": [
      "Diretório já existe\n"
     ]
    }
   ],
   "source": [
    "# Criando diretório\n",
    "newpath=os.getcwd()+'/text'\n",
    "\n",
    "if os.path.isdir(newpath):\n",
    "    print('Diretório já existe')\n",
    "else:\n",
    "    print('Crindo diretório '+newpath)\n",
    "    os.mkdir(newpath)"
   ]
  },
  {
   "cell_type": "markdown",
   "id": "703af246-1505-497d-a0c5-169968b8d524",
   "metadata": {},
   "source": [
    "Na primeira iteração apareceu 'criando diretorio', quando repeti e o diretório já havia saido criado apareceu 'diretorio ja existe'"
   ]
  },
  {
   "cell_type": "code",
   "execution_count": 124,
   "id": "6b5217ea-7a23-465c-842c-4919066b2d5f",
   "metadata": {},
   "outputs": [
    {
     "name": "stdout",
     "output_type": "stream",
     "text": [
      "Crindo diretório C:\\Users\\supor\\OneDrive\\Documentos/text2\n"
     ]
    }
   ],
   "source": [
    "# Criando diretório\n",
    "newpath=os.getcwd()+'/text2'\n",
    "\n",
    "if os.path.isdir(newpath):\n",
    "    print('Diretório já existe')\n",
    "    # Criando um arquivo de texto\n",
    "    with open(newpath+'/copy.txt', 'w') as file:\n",
    "        file.write('Your text goes here')\n",
    "else:\n",
    "    print('Crindo diretório '+newpath)\n",
    "    os.mkdir(newpath)\n",
    "    with open(newpath+'/copy.txt', 'w') as file:\n",
    "        file.write('Your text goes here')"
   ]
  },
  {
   "cell_type": "markdown",
   "id": "d0faffc2-ca75-40de-8dfb-eec264b547cf",
   "metadata": {},
   "source": [
    "## Numpy arrays e Pandas DataFrames"
   ]
  },
  {
   "cell_type": "code",
   "execution_count": 8,
   "id": "b3628332-8f73-4ed9-bd01-5f8adde5a2ff",
   "metadata": {},
   "outputs": [
    {
     "data": {
      "text/plain": [
       "numpy.ndarray"
      ]
     },
     "execution_count": 8,
     "metadata": {},
     "output_type": "execute_result"
    }
   ],
   "source": [
    "import numpy as np\n",
    "# Criando uma variável numpy\n",
    "n=np.array(0)\n",
    "type(n)"
   ]
  },
  {
   "cell_type": "code",
   "execution_count": 9,
   "id": "69ac2815-6c93-4e01-b567-01736f9db8ca",
   "metadata": {},
   "outputs": [
    {
     "name": "stdout",
     "output_type": "stream",
     "text": [
      "[ 1  2  3 10 20 55]\n"
     ]
    }
   ],
   "source": [
    "# Criando uma variável numpy a partir de uma lista\n",
    "mtl=[1,2,3,10,20,55]\n",
    "n=np.array(mtl)\n",
    "print(n)"
   ]
  },
  {
   "cell_type": "code",
   "execution_count": 10,
   "id": "62a90f23-f1a1-4d2a-83e2-9549173be16b",
   "metadata": {},
   "outputs": [
    {
     "name": "stdout",
     "output_type": "stream",
     "text": [
      "[[0.64059328 0.06650025 0.08041514 0.32194573 0.74015944 0.2709275\n",
      "  0.69082411 0.99298314 0.98362274 0.66029398]\n",
      " [0.58535906 0.63447256 0.89311902 0.24313023 0.29699819 0.47955116\n",
      "  0.83614058 0.10743535 0.24803268 0.07530964]\n",
      " [0.70531208 0.55843103 0.08167642 0.54793166 0.34697177 0.14574001\n",
      "  0.21348773 0.62642758 0.98708569 0.8352586 ]\n",
      " [0.87260191 0.66593259 0.46689502 0.08468942 0.33232573 0.57537153\n",
      "  0.90461202 0.47864549 0.93992054 0.27610246]\n",
      " [0.20026835 0.24232821 0.83393891 0.41306561 0.03648512 0.92522477\n",
      "  0.23855163 0.78184861 0.95099174 0.03429428]\n",
      " [0.24106363 0.5365971  0.40115617 0.71406023 0.21831158 0.27676112\n",
      "  0.84623993 0.20182505 0.74529673 0.60234045]\n",
      " [0.7168101  0.22207913 0.5178314  0.34828571 0.7837112  0.5681408\n",
      "  0.19675946 0.24912197 0.55671745 0.26554486]\n",
      " [0.36716998 0.1088581  0.97747497 0.11938358 0.66153442 0.89119335\n",
      "  0.59698592 0.37717292 0.17359773 0.92330879]\n",
      " [0.45810197 0.75474797 0.19724765 0.14529763 0.18957152 0.37723191\n",
      "  0.60518176 0.29028456 0.03520047 0.95319943]\n",
      " [0.78572592 0.53835386 0.77275852 0.38789798 0.27420497 0.55061318\n",
      "  0.67316756 0.55906247 0.6329107  0.91880263]]\n",
      "(10, 10)\n"
     ]
    }
   ],
   "source": [
    "# Criando uma matriz de 10x10 de números aleatórios entre 0 e 1\n",
    "n=np.random.rand(10,10)\n",
    "print(n)\n",
    "# Dimensões da matriz\n",
    "print(n.shape)"
   ]
  },
  {
   "cell_type": "markdown",
   "id": "bf531b73-8722-4ab6-976f-e43c36fd867f",
   "metadata": {},
   "source": [
    "O n.shape da a dimensão da matriz em linhas e colunas"
   ]
  },
  {
   "cell_type": "code",
   "execution_count": 11,
   "id": "6486c824-0309-4415-8d48-b14a56532437",
   "metadata": {},
   "outputs": [
    {
     "data": {
      "text/plain": [
       "array([0.64059328, 0.06650025, 0.08041514, 0.32194573, 0.74015944,\n",
       "       0.2709275 , 0.69082411, 0.99298314, 0.98362274, 0.66029398])"
      ]
     },
     "execution_count": 11,
     "metadata": {},
     "output_type": "execute_result"
    }
   ],
   "source": [
    "# Acessando valores da matriz\n",
    "n[0,:]"
   ]
  },
  {
   "cell_type": "markdown",
   "id": "d9044ebd-e017-4e77-9d1a-f5fb6f91c07c",
   "metadata": {},
   "source": [
    "O dois pontos significa todos os valores, neste caso pegamos a linha 0 e queremos todos os valores dela"
   ]
  },
  {
   "cell_type": "code",
   "execution_count": 12,
   "id": "2ce6387a-5ff0-47a2-b347-65de45ceeb86",
   "metadata": {},
   "outputs": [
    {
     "data": {
      "text/plain": [
       "array([0.64059328, 0.58535906, 0.70531208, 0.87260191, 0.20026835,\n",
       "       0.24106363, 0.7168101 , 0.36716998, 0.45810197, 0.78572592])"
      ]
     },
     "execution_count": 12,
     "metadata": {},
     "output_type": "execute_result"
    }
   ],
   "source": [
    "n[:,0]"
   ]
  },
  {
   "cell_type": "markdown",
   "id": "9b8a8a79-7319-4a87-9c7f-b7e322d978c7",
   "metadata": {},
   "source": [
    "Neste caso significa todos os valores, mas somente o primeiro de cada coluna"
   ]
  },
  {
   "cell_type": "code",
   "execution_count": 13,
   "id": "57118257-e99c-42a9-9085-628765562df7",
   "metadata": {},
   "outputs": [
    {
     "data": {
      "text/plain": [
       "array([[0.06650025, 0.08041514, 0.32194573, 0.74015944],\n",
       "       [0.63447256, 0.89311902, 0.24313023, 0.29699819],\n",
       "       [0.55843103, 0.08167642, 0.54793166, 0.34697177],\n",
       "       [0.66593259, 0.46689502, 0.08468942, 0.33232573],\n",
       "       [0.24232821, 0.83393891, 0.41306561, 0.03648512],\n",
       "       [0.5365971 , 0.40115617, 0.71406023, 0.21831158],\n",
       "       [0.22207913, 0.5178314 , 0.34828571, 0.7837112 ],\n",
       "       [0.1088581 , 0.97747497, 0.11938358, 0.66153442],\n",
       "       [0.75474797, 0.19724765, 0.14529763, 0.18957152],\n",
       "       [0.53835386, 0.77275852, 0.38789798, 0.27420497]])"
      ]
     },
     "execution_count": 13,
     "metadata": {},
     "output_type": "execute_result"
    }
   ],
   "source": [
    "n[:,1:5]"
   ]
  },
  {
   "cell_type": "markdown",
   "id": "7e4bffda-3889-43db-99c8-12163d9f060c",
   "metadata": {},
   "source": [
    "Todos os valores, da coluna 1 até 4"
   ]
  },
  {
   "cell_type": "code",
   "execution_count": 14,
   "id": "6f991509-aad2-439d-8a6c-de571871db3c",
   "metadata": {},
   "outputs": [
    {
     "data": {
      "text/plain": [
       "array([0.06650025, 0.08041514, 0.32194573, 0.74015944])"
      ]
     },
     "execution_count": 14,
     "metadata": {},
     "output_type": "execute_result"
    }
   ],
   "source": [
    "n[0,1:5]"
   ]
  },
  {
   "cell_type": "code",
   "execution_count": 15,
   "id": "91cb33cd-4869-4c53-b553-d94944717458",
   "metadata": {},
   "outputs": [
    {
     "data": {
      "text/plain": [
       "0.6602939844921932"
      ]
     },
     "execution_count": 15,
     "metadata": {},
     "output_type": "execute_result"
    }
   ],
   "source": [
    "n[0,-1]"
   ]
  },
  {
   "cell_type": "code",
   "execution_count": 16,
   "id": "2285a1aa-b2df-4814-b0a8-b564fd6a5062",
   "metadata": {},
   "outputs": [
    {
     "data": {
      "text/plain": [
       "array([0.74015944, 0.2709275 , 0.69082411, 0.99298314, 0.98362274])"
      ]
     },
     "execution_count": 16,
     "metadata": {},
     "output_type": "execute_result"
    }
   ],
   "source": [
    "n[0,4:-1]"
   ]
  },
  {
   "cell_type": "code",
   "execution_count": 17,
   "id": "4ae7be40-8005-46b1-af4d-93848251d693",
   "metadata": {},
   "outputs": [
    {
     "data": {
      "text/plain": [
       "array([0.74015944, 0.2709275 , 0.69082411, 0.99298314, 0.98362274,\n",
       "       0.66029398])"
      ]
     },
     "execution_count": 17,
     "metadata": {},
     "output_type": "execute_result"
    }
   ],
   "source": [
    "n[0,4:]"
   ]
  },
  {
   "cell_type": "code",
   "execution_count": 18,
   "id": "6637a367-1d46-4864-a5a9-b5821581c619",
   "metadata": {},
   "outputs": [
    {
     "name": "stdout",
     "output_type": "stream",
     "text": [
      "[[ 1.16407739e+00 -1.10111166e+00 -9.11114959e-01  4.76065610e-01\n",
      "   1.30854826e+00  3.03533883e-01  1.23956788e+00  1.60239632e+00\n",
      "   1.59292506e+00  1.19436780e+00]\n",
      " [ 1.07390807e+00  1.15447668e+00  1.49640248e+00  1.95279864e-01\n",
      "   3.95408681e-01  8.74533208e-01  1.43047939e+00 -6.21428093e-01\n",
      "   2.15243164e-01 -9.76709279e-01]\n",
      " [ 1.26032300e+00  1.02681375e+00 -8.95552020e-01  1.00783320e+00\n",
      "   5.50926054e-01 -3.16493068e-01  6.52619822e-02  1.14171580e+00\n",
      "   1.59643949e+00  1.42942401e+00]\n",
      " [ 1.47316208e+00  1.20287108e+00  8.47787072e-01 -8.59326708e-01\n",
      "   5.07798238e-01  1.05669860e+00  1.50918877e+00  8.72642849e-01\n",
      "   1.54747797e+00  3.22454652e-01]\n",
      " [ 1.34084697e-03  1.91975681e-01  1.42784278e+00  7.25289069e-01\n",
      "  -1.70141296e+00  1.53171933e+00  1.76268408e-01  1.36334376e+00\n",
      "   1.55918802e+00 -1.76333872e+00]\n",
      " [ 1.86743553e-01  9.86930161e-01  6.96033437e-01  1.27264994e+00\n",
      "   8.76059445e-02  3.24837381e-01  1.44248555e+00  9.08385770e-03\n",
      "   1.31546507e+00  1.10250544e+00]\n",
      " [ 1.27649359e+00  1.04716389e-01  9.51332332e-01  5.54705794e-01\n",
      "   1.36572322e+00  1.04405190e+00 -1.63353934e-02  2.19625241e-01\n",
      "   1.02374047e+00  2.83466423e-01]\n",
      " [ 6.07507522e-01 -6.08272129e-01  1.58665531e+00 -5.15975683e-01\n",
      "   1.19624465e+00  1.49424404e+00  1.09357616e+00  6.34386389e-01\n",
      "  -1.41576664e-01  1.52964636e+00]\n",
      " [ 8.28774445e-01  1.32806651e+00 -1.38573038e-02 -3.19533134e-01\n",
      "  -5.35509821e-02  6.34542768e-01  1.10721147e+00  3.72544324e-01\n",
      "  -1.73725801e+00  1.56150678e+00]\n",
      " [ 1.36829066e+00  9.90198710e-01  1.35164924e+00  6.62424995e-01\n",
      "   3.15558526e-01  1.01271517e+00  1.21367691e+00  1.02794385e+00\n",
      "   1.15201197e+00  1.52475397e+00]]\n"
     ]
    }
   ],
   "source": [
    "an=np.log(n*5)\n",
    "print(an)"
   ]
  },
  {
   "cell_type": "code",
   "execution_count": null,
   "id": "1fb33394-8561-4e01-bae5-22ff566fd99b",
   "metadata": {},
   "outputs": [],
   "source": []
  }
 ],
 "metadata": {
  "kernelspec": {
   "display_name": "Python 3 (ipykernel)",
   "language": "python",
   "name": "python3"
  },
  "language_info": {
   "codemirror_mode": {
    "name": "ipython",
    "version": 3
   },
   "file_extension": ".py",
   "mimetype": "text/x-python",
   "name": "python",
   "nbconvert_exporter": "python",
   "pygments_lexer": "ipython3",
   "version": "3.11.8"
  }
 },
 "nbformat": 4,
 "nbformat_minor": 5
}
