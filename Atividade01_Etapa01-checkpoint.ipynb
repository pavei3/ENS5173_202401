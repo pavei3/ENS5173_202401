{
 "cells": [
  {
   "cell_type": "markdown",
   "id": "ce79c822-e692-41fd-9b06-740fc517b89c",
   "metadata": {},
   "source": [
    "# Aula 02 - Python\n",
    "## Dados numéricos\n"
   ]
  },
  {
   "cell_type": "code",
   "execution_count": 35,
   "id": "b0f94bb7-1fd6-4f03-ba27-e5154d5c8b64",
   "metadata": {},
   "outputs": [
    {
     "name": "stdout",
     "output_type": "stream",
     "text": [
      "Valor de a = 1\n"
     ]
    },
    {
     "data": {
      "text/plain": [
       "int"
      ]
     },
     "execution_count": 35,
     "metadata": {},
     "output_type": "execute_result"
    }
   ],
   "source": [
    "# Variável inteira\n",
    "a = 1\n",
    "print('Valor de a =',a)\n",
    "type(a)"
   ]
  },
  {
   "cell_type": "code",
   "execution_count": 36,
   "id": "9086b9c2-8ad3-489d-b3b0-673053d71030",
   "metadata": {},
   "outputs": [
    {
     "name": "stdout",
     "output_type": "stream",
     "text": [
      "1.0\n"
     ]
    },
    {
     "data": {
      "text/plain": [
       "float"
      ]
     },
     "execution_count": 36,
     "metadata": {},
     "output_type": "execute_result"
    }
   ],
   "source": [
    "# Variável dupla precisão\n",
    "b=1.0\n",
    "print(b)\n",
    "type(b)"
   ]
  },
  {
   "cell_type": "code",
   "execution_count": 37,
   "id": "c1a7078f-8ef0-42c8-9a86-b3409ad6c805",
   "metadata": {},
   "outputs": [
    {
     "name": "stdout",
     "output_type": "stream",
     "text": [
      "1\n"
     ]
    },
    {
     "data": {
      "text/plain": [
       "int"
      ]
     },
     "execution_count": 37,
     "metadata": {},
     "output_type": "execute_result"
    }
   ],
   "source": [
    "# Conveter float para int\n",
    "c=int(b)\n",
    "print(c)\n",
    "type(c)"
   ]
  },
  {
   "cell_type": "code",
   "execution_count": 38,
   "id": "3f946c8c-9c1c-42c1-aeff-6b40e00c25d4",
   "metadata": {},
   "outputs": [
    {
     "name": "stdout",
     "output_type": "stream",
     "text": [
      "2\n"
     ]
    },
    {
     "data": {
      "text/plain": [
       "int"
      ]
     },
     "execution_count": 38,
     "metadata": {},
     "output_type": "execute_result"
    }
   ],
   "source": [
    "b=2.99\n",
    "c=int(b)\n",
    "print(c)\n",
    "type(c)"
   ]
  },
  {
   "cell_type": "markdown",
   "id": "145d40c4-0b32-411e-a272-ec5ac2de4d01",
   "metadata": {},
   "source": [
    "Números inteiros e decimais são tipos diferentes para ajudar no processamento da máquina, transformando float para int ele vai usar o primeiro número da esquerda para direita como base (3,44 vira 3, e 3,99 vira 3 também)"
   ]
  },
  {
   "cell_type": "code",
   "execution_count": 39,
   "id": "0b82057e-af93-48f6-82d9-18fa7af78af3",
   "metadata": {},
   "outputs": [
    {
     "name": "stdout",
     "output_type": "stream",
     "text": [
      "nan\n"
     ]
    },
    {
     "data": {
      "text/plain": [
       "float"
      ]
     },
     "execution_count": 39,
     "metadata": {},
     "output_type": "execute_result"
    }
   ],
   "source": [
    "# Declarando nan\n",
    "import numpy as np\n",
    "d=np.nan\n",
    "print(d)\n",
    "type(d)"
   ]
  },
  {
   "cell_type": "code",
   "execution_count": 40,
   "id": "ca1232df-69ae-4ed2-8cce-e15d52d7c36f",
   "metadata": {},
   "outputs": [
    {
     "name": "stdout",
     "output_type": "stream",
     "text": [
      "nan\n",
      "nan\n",
      "1.0\n"
     ]
    }
   ],
   "source": [
    "# Operação com Nan\n",
    "e=d*1\n",
    "print(e)\n",
    "e=d+1\n",
    "print(e)\n",
    "e=np.nansum([d,1])\n",
    "print(e)"
   ]
  },
  {
   "cell_type": "markdown",
   "id": "df8d9a96-bff8-4a76-92d0-22dae94869f6",
   "metadata": {},
   "source": [
    "## Dados de texto"
   ]
  },
  {
   "cell_type": "code",
   "execution_count": 41,
   "id": "d0bda61e-70a2-4cfd-a47a-0095a1b885c4",
   "metadata": {},
   "outputs": [
    {
     "name": "stdout",
     "output_type": "stream",
     "text": [
      "Fábio\n",
      "Gabriel\n",
      "FábioGabriel\n",
      "Fábio Gabriel\n"
     ]
    }
   ],
   "source": [
    "# Declaração de variável texto\n",
    "f = 'Fábio'\n",
    "g = 'Gabriel'\n",
    "print(f)\n",
    "print(g)\n",
    "print(f+g)\n",
    "print(f+' '+g)"
   ]
  },
  {
   "cell_type": "markdown",
   "id": "35270277-09a5-4692-969a-1433dfe9b50f",
   "metadata": {},
   "source": [
    "A linguagem entende que quando entre '' em um print, não é variável"
   ]
  },
  {
   "cell_type": "markdown",
   "id": "76764be2-e9fd-4bd5-bc6d-00c3996eb5fc",
   "metadata": {},
   "source": [
    "## Dados tipo bool - lógica"
   ]
  },
  {
   "cell_type": "code",
   "execution_count": 42,
   "id": "ade915ad-9478-4245-b199-cc74275bbe67",
   "metadata": {},
   "outputs": [
    {
     "data": {
      "text/plain": [
       "True"
      ]
     },
     "execution_count": 42,
     "metadata": {},
     "output_type": "execute_result"
    }
   ],
   "source": [
    "a == 1"
   ]
  },
  {
   "cell_type": "code",
   "execution_count": 43,
   "id": "67bc0366-3340-476c-98ec-94838d480418",
   "metadata": {},
   "outputs": [
    {
     "name": "stdout",
     "output_type": "stream",
     "text": [
      "True\n"
     ]
    },
    {
     "data": {
      "text/plain": [
       "bool"
      ]
     },
     "execution_count": 43,
     "metadata": {},
     "output_type": "execute_result"
    }
   ],
   "source": [
    "h = (a==1)\n",
    "print(h)\n",
    "type(h)"
   ]
  },
  {
   "cell_type": "markdown",
   "id": "29ba71ee-5148-4956-b29c-32ab15cbd61c",
   "metadata": {},
   "source": [
    "Bool é usado para dizer se algo é true ou false"
   ]
  },
  {
   "cell_type": "code",
   "execution_count": 44,
   "id": "cac86d84-a2b7-4318-873e-877f0d45a0c7",
   "metadata": {},
   "outputs": [
    {
     "name": "stdout",
     "output_type": "stream",
     "text": [
      "False\n"
     ]
    },
    {
     "data": {
      "text/plain": [
       "bool"
      ]
     },
     "execution_count": 44,
     "metadata": {},
     "output_type": "execute_result"
    }
   ],
   "source": [
    "h = (a==2)\n",
    "print(h)\n",
    "type(h)"
   ]
  },
  {
   "cell_type": "code",
   "execution_count": 45,
   "id": "527b9d5a-ebb6-463a-8dd1-865f37877f67",
   "metadata": {},
   "outputs": [
    {
     "data": {
      "text/plain": [
       "bool"
      ]
     },
     "execution_count": 45,
     "metadata": {},
     "output_type": "execute_result"
    }
   ],
   "source": [
    "i = True\n",
    "type(i)"
   ]
  },
  {
   "cell_type": "code",
   "execution_count": 46,
   "id": "3818cdfb-14cc-4756-b0c9-7253ecc02fb9",
   "metadata": {},
   "outputs": [
    {
     "data": {
      "text/plain": [
       "str"
      ]
     },
     "execution_count": 46,
     "metadata": {},
     "output_type": "execute_result"
    }
   ],
   "source": [
    "ii='True'\n",
    "type(ii)"
   ]
  },
  {
   "cell_type": "markdown",
   "id": "221aa4c8-dcfd-4b74-8eaf-0a57d89bc410",
   "metadata": {},
   "source": [
    "Ao colocar aspas no True, ele passar a ser um texto que é uma string"
   ]
  },
  {
   "cell_type": "markdown",
   "id": "7701ce07-008c-46ed-a422-e9387781d86c",
   "metadata": {},
   "source": [
    "## Operação de comparação\n",
    "a=1 e b=1.0"
   ]
  },
  {
   "cell_type": "code",
   "execution_count": 47,
   "id": "742d0299-9606-4310-b324-4968c16b156c",
   "metadata": {},
   "outputs": [
    {
     "data": {
      "text/plain": [
       "False"
      ]
     },
     "execution_count": 47,
     "metadata": {},
     "output_type": "execute_result"
    }
   ],
   "source": [
    "# Operação ==\n",
    "a==b"
   ]
  },
  {
   "cell_type": "code",
   "execution_count": 48,
   "id": "23dc43c9-cc16-4664-ab63-8a23f035cf2e",
   "metadata": {},
   "outputs": [
    {
     "data": {
      "text/plain": [
       "False"
      ]
     },
     "execution_count": 48,
     "metadata": {},
     "output_type": "execute_result"
    }
   ],
   "source": [
    "# Operação ><\n",
    "a>b"
   ]
  },
  {
   "cell_type": "code",
   "execution_count": 49,
   "id": "1380e303-10a5-47cc-b14a-e007e0f4494e",
   "metadata": {},
   "outputs": [
    {
     "data": {
      "text/plain": [
       "True"
      ]
     },
     "execution_count": 49,
     "metadata": {},
     "output_type": "execute_result"
    }
   ],
   "source": [
    "# Operação !=\n",
    "a!=b"
   ]
  },
  {
   "cell_type": "code",
   "execution_count": 50,
   "id": "44f49185-18cf-4dee-9530-e733784ac4a8",
   "metadata": {},
   "outputs": [
    {
     "data": {
      "text/plain": [
       "False"
      ]
     },
     "execution_count": 50,
     "metadata": {},
     "output_type": "execute_result"
    }
   ],
   "source": [
    "# Operação >= ou =<\n",
    "a>=b"
   ]
  },
  {
   "cell_type": "markdown",
   "id": "3a998448-801a-40ae-b03a-cc60024f00e1",
   "metadata": {},
   "source": [
    "## Operações matemáticas"
   ]
  },
  {
   "cell_type": "code",
   "execution_count": 51,
   "id": "3cff14de-b365-4c32-a990-d70d867674e8",
   "metadata": {},
   "outputs": [
    {
     "data": {
      "text/plain": [
       "3.99"
      ]
     },
     "execution_count": 51,
     "metadata": {},
     "output_type": "execute_result"
    }
   ],
   "source": [
    "# Soma \n",
    "a+b"
   ]
  },
  {
   "cell_type": "code",
   "execution_count": 52,
   "id": "2e0720dc-1081-4425-8899-07cdea214c39",
   "metadata": {},
   "outputs": [
    {
     "name": "stdout",
     "output_type": "stream",
     "text": [
      "3.99\n"
     ]
    }
   ],
   "source": [
    "# Soma e atribui valor\n",
    "ab=a+b\n",
    "print(ab)"
   ]
  },
  {
   "cell_type": "code",
   "execution_count": 53,
   "id": "d4f6ab3b-226e-4be3-8126-366a164acd95",
   "metadata": {},
   "outputs": [
    {
     "name": "stdout",
     "output_type": "stream",
     "text": [
      "Não use l como nome de variável\n",
      "2.99\n"
     ]
    }
   ],
   "source": [
    "# Multiplicação\n",
    "l=a*b # Não use l como variável\n",
    "print('Não use l como nome de variável')\n",
    "j=a*b\n",
    "print(j)"
   ]
  },
  {
   "cell_type": "code",
   "execution_count": 54,
   "id": "b3065266-c92e-4858-a2ba-fb4006bcfedf",
   "metadata": {},
   "outputs": [
    {
     "data": {
      "text/plain": [
       "0.33444816053511706"
      ]
     },
     "execution_count": 54,
     "metadata": {},
     "output_type": "execute_result"
    }
   ],
   "source": [
    "# Divisão\n",
    "a/b"
   ]
  },
  {
   "cell_type": "code",
   "execution_count": 55,
   "id": "49159647-b725-4d20-b06e-394efa55cdb3",
   "metadata": {},
   "outputs": [
    {
     "data": {
      "text/plain": [
       "32"
      ]
     },
     "execution_count": 55,
     "metadata": {},
     "output_type": "execute_result"
    }
   ],
   "source": [
    "# Potência\n",
    "2**5"
   ]
  },
  {
   "cell_type": "code",
   "execution_count": 56,
   "id": "0233f4fb-8d16-4098-9cc4-c8f656d69a94",
   "metadata": {},
   "outputs": [
    {
     "data": {
      "text/plain": [
       "22026.465794806718"
      ]
     },
     "execution_count": 56,
     "metadata": {},
     "output_type": "execute_result"
    }
   ],
   "source": [
    "# Operações matemáticas com a biblioteca math\n",
    "import math\n",
    "math.exp(10)"
   ]
  },
  {
   "cell_type": "code",
   "execution_count": 57,
   "id": "f8d14851-41f8-444a-8ca2-1a74a11a0d03",
   "metadata": {},
   "outputs": [
    {
     "data": {
      "text/plain": [
       "1.0"
      ]
     },
     "execution_count": 57,
     "metadata": {},
     "output_type": "execute_result"
    }
   ],
   "source": [
    "math.exp(0)"
   ]
  },
  {
   "cell_type": "code",
   "execution_count": 58,
   "id": "ca67245f-1bcf-4d50-874a-af16a9f351d2",
   "metadata": {},
   "outputs": [
    {
     "data": {
      "text/plain": [
       "19.88568249156473"
      ]
     },
     "execution_count": 58,
     "metadata": {},
     "output_type": "execute_result"
    }
   ],
   "source": [
    "math.exp(b)"
   ]
  },
  {
   "cell_type": "code",
   "execution_count": 68,
   "id": "f8dd547d-071b-44e7-a0a5-3cf3b7f4a367",
   "metadata": {},
   "outputs": [
    {
     "data": {
      "text/plain": [
       "0.3010299956639812"
      ]
     },
     "execution_count": 68,
     "metadata": {},
     "output_type": "execute_result"
    }
   ],
   "source": [
    "import math as mt\n",
    "mt.log10(c)"
   ]
  },
  {
   "cell_type": "code",
   "execution_count": 67,
   "id": "4b59303a-9ad6-4183-bca2-273b938daf04",
   "metadata": {},
   "outputs": [
    {
     "data": {
      "text/plain": [
       "4.605170185988092"
      ]
     },
     "execution_count": 67,
     "metadata": {},
     "output_type": "execute_result"
    }
   ],
   "source": [
    "mt.log(100)"
   ]
  },
  {
   "cell_type": "code",
   "execution_count": 69,
   "id": "b36eba33-5f32-415c-bac3-e50d2fc4e69c",
   "metadata": {},
   "outputs": [
    {
     "data": {
      "text/plain": [
       "0.6931471805599453"
      ]
     },
     "execution_count": 69,
     "metadata": {},
     "output_type": "execute_result"
    }
   ],
   "source": [
    "mt.log(c)"
   ]
  },
  {
   "cell_type": "markdown",
   "id": "500ba971-3fb2-46c7-adb9-6ff43b478522",
   "metadata": {},
   "source": [
    "O .log da na base 'e', e o .log10 da na base 10."
   ]
  },
  {
   "cell_type": "markdown",
   "id": "b2154326-bcbd-490a-bbd8-bc4d243b113a",
   "metadata": {},
   "source": [
    "## Listas"
   ]
  },
  {
   "cell_type": "code",
   "execution_count": 76,
   "id": "253a4ae3-63bf-4942-a49d-c0c7ecc1c00f",
   "metadata": {},
   "outputs": [
    {
     "name": "stdout",
     "output_type": "stream",
     "text": [
      "[1, 2, 3]\n"
     ]
    }
   ],
   "source": [
    "mfl=[1,2,3]\n",
    "print(mfl)"
   ]
  },
  {
   "cell_type": "code",
   "execution_count": 77,
   "id": "d39fc7b4-4d65-4257-8115-bde50a343ded",
   "metadata": {},
   "outputs": [
    {
     "name": "stdout",
     "output_type": "stream",
     "text": [
      "[1, 2, 3]\n"
     ]
    }
   ],
   "source": [
    "mfl=[1, 2, 3]\n",
    "print(mfl)"
   ]
  },
  {
   "cell_type": "code",
   "execution_count": 83,
   "id": "8f8cac23-cf44-4506-bdcf-a947f22b0b3f",
   "metadata": {},
   "outputs": [
    {
     "name": "stdout",
     "output_type": "stream",
     "text": [
      "1 3\n"
     ]
    }
   ],
   "source": [
    "# Acessando valores da lista pelo index\n",
    "print(mfl[0], mfl[2])"
   ]
  },
  {
   "cell_type": "markdown",
   "id": "81d07d0f-8351-4d8c-9e58-181c87b0e10e",
   "metadata": {},
   "source": [
    "Index da lista começa no 0 "
   ]
  },
  {
   "cell_type": "code",
   "execution_count": 84,
   "id": "5dbfbc37-ac4f-47a4-b702-7d033ccea8a3",
   "metadata": {},
   "outputs": [
    {
     "data": {
      "text/plain": [
       "False"
      ]
     },
     "execution_count": 84,
     "metadata": {},
     "output_type": "execute_result"
    }
   ],
   "source": [
    "mfl==a"
   ]
  },
  {
   "cell_type": "code",
   "execution_count": 85,
   "id": "91a3f028-9e0a-49ce-b56d-15d2ffcb1519",
   "metadata": {},
   "outputs": [
    {
     "data": {
      "text/plain": [
       "True"
      ]
     },
     "execution_count": 85,
     "metadata": {},
     "output_type": "execute_result"
    }
   ],
   "source": [
    "mfl[0]==a"
   ]
  },
  {
   "cell_type": "code",
   "execution_count": 86,
   "id": "2afcb6f6-ecd2-4b66-8c3d-c0108ce3767b",
   "metadata": {},
   "outputs": [
    {
     "name": "stdout",
     "output_type": "stream",
     "text": [
      "[1, 1, 'c']\n"
     ]
    }
   ],
   "source": [
    "msl=[1,a,'c']\n",
    "print(msl)"
   ]
  },
  {
   "cell_type": "code",
   "execution_count": 87,
   "id": "063c4ff1-8833-4655-bb77-430e5caa5360",
   "metadata": {},
   "outputs": [
    {
     "data": {
      "text/plain": [
       "list"
      ]
     },
     "execution_count": 87,
     "metadata": {},
     "output_type": "execute_result"
    }
   ],
   "source": [
    "type(msl)"
   ]
  },
  {
   "cell_type": "code",
   "execution_count": 89,
   "id": "90d2a536-52ab-434e-9330-649298fcdbc8",
   "metadata": {},
   "outputs": [
    {
     "data": {
      "text/plain": [
       "str"
      ]
     },
     "execution_count": 89,
     "metadata": {},
     "output_type": "execute_result"
    }
   ],
   "source": [
    "type(msl[2])"
   ]
  },
  {
   "cell_type": "code",
   "execution_count": 90,
   "id": "9734ddc6-55fe-41b3-a2fa-bd91a285d47e",
   "metadata": {},
   "outputs": [
    {
     "data": {
      "text/plain": [
       "int"
      ]
     },
     "execution_count": 90,
     "metadata": {},
     "output_type": "execute_result"
    }
   ],
   "source": [
    "type(msl[1])"
   ]
  },
  {
   "cell_type": "markdown",
   "id": "d736a229-4855-4f6b-a6bc-05ce68e8c9c0",
   "metadata": {},
   "source": [
    "## Caminhos = path"
   ]
  },
  {
   "cell_type": "code",
   "execution_count": 92,
   "id": "93d4dcc1-cf7c-49bf-af25-f5185c27a823",
   "metadata": {},
   "outputs": [
    {
     "name": "stdout",
     "output_type": "stream",
     "text": [
      "C:\\Users\\supor\\OneDrive\\Documentos\\ControlePoluicaoAtm\\ENS5173_202401\n"
     ]
    }
   ],
   "source": [
    "path = r\"C:\\Users\\supor\\OneDrive\\Documentos\\ControlePoluicaoAtm\\ENS5173_202401\"\n",
    "print(path)"
   ]
  },
  {
   "cell_type": "code",
   "execution_count": 96,
   "id": "503a2684-00c8-4461-b766-6f17d2ba600d",
   "metadata": {},
   "outputs": [
    {
     "name": "stdout",
     "output_type": "stream",
     "text": [
      "C:/Users/supor/OneDrive/Documentos/ControlePoluicaoAtm/ENS5173_202401\n"
     ]
    }
   ],
   "source": [
    "path = \"C:/Users/supor/OneDrive/Documentos/ControlePoluicaoAtm/ENS5173_202401\"\n",
    "print(path)"
   ]
  },
  {
   "cell_type": "code",
   "execution_count": 98,
   "id": "4d94493a-deda-40c3-98b3-733fd4f1712b",
   "metadata": {},
   "outputs": [
    {
     "data": {
      "text/plain": [
       "['.git',\n",
       " '.gitignore',\n",
       " '.ipynb_checkpoints',\n",
       " 'Atividade1-checkpoint.ipynb',\n",
       " 'Aula01.ipynb',\n",
       " 'inputs',\n",
       " 'README.md',\n",
       " 'scripts',\n",
       " 'venv']"
      ]
     },
     "execution_count": 98,
     "metadata": {},
     "output_type": "execute_result"
    }
   ],
   "source": [
    "import os\n",
    "# listar arquivos na pasta\n",
    "os.listdir(path)"
   ]
  },
  {
   "cell_type": "code",
   "execution_count": 99,
   "id": "56950e8a-def0-4010-8544-1258e4574cf4",
   "metadata": {},
   "outputs": [
    {
     "data": {
      "text/plain": [
       "'.git'"
      ]
     },
     "execution_count": 99,
     "metadata": {},
     "output_type": "execute_result"
    }
   ],
   "source": [
    "# Selecionar primeiro arquivo listado\n",
    "os.listdir(path)[0]"
   ]
  },
  {
   "cell_type": "code",
   "execution_count": 100,
   "id": "b19d589b-66d3-455a-a5f0-1987863d2c4d",
   "metadata": {},
   "outputs": [
    {
     "data": {
      "text/plain": [
       "'C:/Users/supor/OneDrive/Documentos/ControlePoluicaoAtm/ENS5173_202401/.git'"
      ]
     },
     "execution_count": 100,
     "metadata": {},
     "output_type": "execute_result"
    }
   ],
   "source": [
    "# Concatenando caminhos\n",
    "path+\"/\"+os.listdir(path)[0]"
   ]
  },
  {
   "cell_type": "code",
   "execution_count": 103,
   "id": "d003fc79-a46a-4e6e-a08e-df5d4d572197",
   "metadata": {},
   "outputs": [
    {
     "data": {
      "text/plain": [
       "['COMMIT_EDITMSG',\n",
       " 'config',\n",
       " 'description',\n",
       " 'FETCH_HEAD',\n",
       " 'HEAD',\n",
       " 'hooks',\n",
       " 'index',\n",
       " 'info',\n",
       " 'logs',\n",
       " 'objects',\n",
       " 'packed-refs',\n",
       " 'refs']"
      ]
     },
     "execution_count": 103,
     "metadata": {},
     "output_type": "execute_result"
    }
   ],
   "source": [
    "# Listando caminho concatenado\n",
    "os.listdir(path+\"/\"+os.listdir(path)[0])"
   ]
  },
  {
   "cell_type": "code",
   "execution_count": 104,
   "id": "19a7436a-69a5-4fb9-aacc-d0e2c3a2ee92",
   "metadata": {},
   "outputs": [
    {
     "data": {
      "text/plain": [
       "'C:\\\\Users\\\\supor\\\\OneDrive\\\\Documentos\\\\ControlePoluicaoAtm\\\\ENS5173_202401\\\\venv\\\\Scripts'"
      ]
     },
     "execution_count": 104,
     "metadata": {},
     "output_type": "execute_result"
    }
   ],
   "source": [
    "# Diretório que estou trabalhando\n",
    "os.getcwd()"
   ]
  },
  {
   "cell_type": "code",
   "execution_count": 108,
   "id": "f88c029d-1d13-43af-8a92-4fae67d62ffc",
   "metadata": {},
   "outputs": [],
   "source": [
    "# Mudo de diretório para o caminho\n",
    "os.chdir('C:\\\\Users\\\\supor\\\\OneDrive\\\\Documentos\\\\ControlePoluicaoAtm\\\\ENS5173_202401')"
   ]
  },
  {
   "cell_type": "code",
   "execution_count": 111,
   "id": "5d045b99-a5a1-4115-a989-e8967ee4fea2",
   "metadata": {},
   "outputs": [
    {
     "data": {
      "text/plain": [
       "'C:\\\\Users\\\\supor\\\\OneDrive\\\\Documentos\\\\ControlePoluicaoAtm\\\\ENS5173_202401'"
      ]
     },
     "execution_count": 111,
     "metadata": {},
     "output_type": "execute_result"
    }
   ],
   "source": [
    "os.getcwd()"
   ]
  },
  {
   "cell_type": "code",
   "execution_count": 114,
   "id": "63378a0e-048f-49c6-9300-c5506e7bdaf8",
   "metadata": {},
   "outputs": [],
   "source": [
    "os.chdir(\"C:\\\\Users\\\\supor\\\\OneDrive\\\\Documentos\")"
   ]
  },
  {
   "cell_type": "code",
   "execution_count": 115,
   "id": "01a8fffa-9843-466a-9613-857313ff6cbd",
   "metadata": {},
   "outputs": [
    {
     "data": {
      "text/plain": [
       "'C:\\\\Users\\\\supor\\\\OneDrive\\\\Documentos'"
      ]
     },
     "execution_count": 115,
     "metadata": {},
     "output_type": "execute_result"
    }
   ],
   "source": [
    "os.getcwd()"
   ]
  },
  {
   "cell_type": "code",
   "execution_count": 121,
   "id": "db25a275-3162-4a95-9ae9-03e27570fe7c",
   "metadata": {},
   "outputs": [
    {
     "name": "stdout",
     "output_type": "stream",
     "text": [
      "Diretório já existe\n"
     ]
    }
   ],
   "source": [
    "# Criando diretório\n",
    "newpath=os.getcwd()+'/text'\n",
    "\n",
    "if os.path.isdir(newpath):\n",
    "    print('Diretório já existe')\n",
    "else:\n",
    "    print('Crindo diretório '+newpath)\n",
    "    os.mkdir(newpath)"
   ]
  },
  {
   "cell_type": "markdown",
   "id": "703af246-1505-497d-a0c5-169968b8d524",
   "metadata": {},
   "source": [
    "Na primeira iteração apareceu 'criando diretorio', quando repeti e o diretório já havia saido criado apareceu 'diretorio ja existe'"
   ]
  },
  {
   "cell_type": "code",
   "execution_count": 124,
   "id": "6b5217ea-7a23-465c-842c-4919066b2d5f",
   "metadata": {},
   "outputs": [
    {
     "name": "stdout",
     "output_type": "stream",
     "text": [
      "Crindo diretório C:\\Users\\supor\\OneDrive\\Documentos/text2\n"
     ]
    }
   ],
   "source": [
    "# Criando diretório\n",
    "newpath=os.getcwd()+'/text2'\n",
    "\n",
    "if os.path.isdir(newpath):\n",
    "    print('Diretório já existe')\n",
    "    # Criando um arquivo de texto\n",
    "    with open(newpath+'/copy.txt', 'w') as file:\n",
    "        file.write('Your text goes here')\n",
    "else:\n",
    "    print('Crindo diretório '+newpath)\n",
    "    os.mkdir(newpath)\n",
    "    with open(newpath+'/copy.txt', 'w') as file:\n",
    "        file.write('Your text goes here')"
   ]
  },
  {
   "cell_type": "markdown",
   "id": "d0faffc2-ca75-40de-8dfb-eec264b547cf",
   "metadata": {},
   "source": [
    "## Numpy arrays e Pandas DataFrames"
   ]
  },
  {
   "cell_type": "code",
   "execution_count": 125,
   "id": "b3628332-8f73-4ed9-bd01-5f8adde5a2ff",
   "metadata": {},
   "outputs": [
    {
     "data": {
      "text/plain": [
       "numpy.ndarray"
      ]
     },
     "execution_count": 125,
     "metadata": {},
     "output_type": "execute_result"
    }
   ],
   "source": [
    "import numpy as np\n",
    "# Criando uma variável numpy\n",
    "n=np.array(0)\n",
    "type(n)"
   ]
  },
  {
   "cell_type": "code",
   "execution_count": 126,
   "id": "69ac2815-6c93-4e01-b567-01736f9db8ca",
   "metadata": {},
   "outputs": [
    {
     "name": "stdout",
     "output_type": "stream",
     "text": [
      "[ 1  2  3 10 20 55]\n"
     ]
    }
   ],
   "source": [
    "# Criando uma variável numpy a partir de uma lista\n",
    "mtl=[1,2,3,10,20,55]\n",
    "n=np.array(mtl)\n",
    "print(n)"
   ]
  },
  {
   "cell_type": "code",
   "execution_count": 128,
   "id": "62a90f23-f1a1-4d2a-83e2-9549173be16b",
   "metadata": {},
   "outputs": [
    {
     "name": "stdout",
     "output_type": "stream",
     "text": [
      "[[0.03252641 0.13994576 0.01164263 0.4036779  0.92485693 0.34485953\n",
      "  0.99701556 0.6144947  0.15862301 0.2674269 ]\n",
      " [0.3437708  0.83137913 0.35556746 0.51244396 0.21882255 0.71064962\n",
      "  0.50673055 0.40241631 0.00185349 0.23441518]\n",
      " [0.17282265 0.28234019 0.09214107 0.4463691  0.47473186 0.14287151\n",
      "  0.73621813 0.86364533 0.59041323 0.82561438]\n",
      " [0.92002404 0.03667136 0.64626738 0.41283107 0.2235653  0.63489297\n",
      "  0.67613707 0.82536883 0.49963851 0.42793867]\n",
      " [0.73508603 0.82006322 0.33201709 0.79002656 0.70614824 0.62939114\n",
      "  0.5574988  0.92718708 0.12050784 0.07322557]\n",
      " [0.9535183  0.56410755 0.47225127 0.33540076 0.62899132 0.1339391\n",
      "  0.05843812 0.78240012 0.67525511 0.06704095]\n",
      " [0.58399417 0.7878062  0.30357185 0.58184502 0.67770638 0.72774868\n",
      "  0.55760897 0.93125414 0.97343148 0.11472592]\n",
      " [0.1875804  0.43142996 0.61376344 0.4789634  0.81464951 0.00875811\n",
      "  0.79604405 0.20395439 0.34418957 0.78329546]\n",
      " [0.97381451 0.16096979 0.38145025 0.28168698 0.19544419 0.00134945\n",
      "  0.28223768 0.01122178 0.56210644 0.13797065]\n",
      " [0.94716801 0.00635096 0.99586056 0.14989694 0.32729645 0.15316868\n",
      "  0.60025533 0.93784253 0.05180705 0.44997476]]\n",
      "(10, 10)\n"
     ]
    }
   ],
   "source": [
    "# Criando uma matriz de 10x10 de números aleatórios entre 0 e 1\n",
    "n=np.random.rand(10,10)\n",
    "print(n)\n",
    "# Dimensões da matrix\n",
    "print(n.shape)"
   ]
  },
  {
   "cell_type": "code",
   "execution_count": 129,
   "id": "6486c824-0309-4415-8d48-b14a56532437",
   "metadata": {},
   "outputs": [
    {
     "data": {
      "text/plain": [
       "array([0.03252641, 0.13994576, 0.01164263, 0.4036779 , 0.92485693,\n",
       "       0.34485953, 0.99701556, 0.6144947 , 0.15862301, 0.2674269 ])"
      ]
     },
     "execution_count": 129,
     "metadata": {},
     "output_type": "execute_result"
    }
   ],
   "source": [
    "# Acessando valores da matriz\n",
    "n[0,:]"
   ]
  },
  {
   "cell_type": "code",
   "execution_count": 130,
   "id": "2ce6387a-5ff0-47a2-b347-65de45ceeb86",
   "metadata": {},
   "outputs": [
    {
     "data": {
      "text/plain": [
       "array([0.03252641, 0.3437708 , 0.17282265, 0.92002404, 0.73508603,\n",
       "       0.9535183 , 0.58399417, 0.1875804 , 0.97381451, 0.94716801])"
      ]
     },
     "execution_count": 130,
     "metadata": {},
     "output_type": "execute_result"
    }
   ],
   "source": [
    "n[:,0]"
   ]
  },
  {
   "cell_type": "code",
   "execution_count": 131,
   "id": "57118257-e99c-42a9-9085-628765562df7",
   "metadata": {},
   "outputs": [
    {
     "data": {
      "text/plain": [
       "array([[0.13994576, 0.01164263, 0.4036779 , 0.92485693],\n",
       "       [0.83137913, 0.35556746, 0.51244396, 0.21882255],\n",
       "       [0.28234019, 0.09214107, 0.4463691 , 0.47473186],\n",
       "       [0.03667136, 0.64626738, 0.41283107, 0.2235653 ],\n",
       "       [0.82006322, 0.33201709, 0.79002656, 0.70614824],\n",
       "       [0.56410755, 0.47225127, 0.33540076, 0.62899132],\n",
       "       [0.7878062 , 0.30357185, 0.58184502, 0.67770638],\n",
       "       [0.43142996, 0.61376344, 0.4789634 , 0.81464951],\n",
       "       [0.16096979, 0.38145025, 0.28168698, 0.19544419],\n",
       "       [0.00635096, 0.99586056, 0.14989694, 0.32729645]])"
      ]
     },
     "execution_count": 131,
     "metadata": {},
     "output_type": "execute_result"
    }
   ],
   "source": [
    "n[:,1:5]"
   ]
  },
  {
   "cell_type": "code",
   "execution_count": 132,
   "id": "6f991509-aad2-439d-8a6c-de571871db3c",
   "metadata": {},
   "outputs": [
    {
     "data": {
      "text/plain": [
       "array([0.13994576, 0.01164263, 0.4036779 , 0.92485693])"
      ]
     },
     "execution_count": 132,
     "metadata": {},
     "output_type": "execute_result"
    }
   ],
   "source": [
    "n[0,1:5]"
   ]
  },
  {
   "cell_type": "code",
   "execution_count": 133,
   "id": "91cb33cd-4869-4c53-b553-d94944717458",
   "metadata": {},
   "outputs": [
    {
     "data": {
      "text/plain": [
       "0.2674269020104221"
      ]
     },
     "execution_count": 133,
     "metadata": {},
     "output_type": "execute_result"
    }
   ],
   "source": [
    "n[0,-1]"
   ]
  },
  {
   "cell_type": "code",
   "execution_count": 134,
   "id": "2285a1aa-b2df-4814-b0a8-b564fd6a5062",
   "metadata": {},
   "outputs": [
    {
     "data": {
      "text/plain": [
       "array([0.92485693, 0.34485953, 0.99701556, 0.6144947 , 0.15862301])"
      ]
     },
     "execution_count": 134,
     "metadata": {},
     "output_type": "execute_result"
    }
   ],
   "source": [
    "n[0,4:-1]"
   ]
  },
  {
   "cell_type": "code",
   "execution_count": 135,
   "id": "4ae7be40-8005-46b1-af4d-93848251d693",
   "metadata": {},
   "outputs": [
    {
     "data": {
      "text/plain": [
       "array([0.92485693, 0.34485953, 0.99701556, 0.6144947 , 0.15862301,\n",
       "       0.2674269 ])"
      ]
     },
     "execution_count": 135,
     "metadata": {},
     "output_type": "execute_result"
    }
   ],
   "source": [
    "n[0,4:]"
   ]
  },
  {
   "cell_type": "code",
   "execution_count": 136,
   "id": "6637a367-1d46-4864-a5a9-b5821581c619",
   "metadata": {},
   "outputs": [
    {
     "name": "stdout",
     "output_type": "stream",
     "text": [
      "[[-1.81626503 -0.35706242 -2.8436437   0.70229992  1.53132169  0.54481981\n",
      "   1.60644901  1.12248293 -0.23178699  0.2905289 ]\n",
      " [ 0.54165778  1.42476855  0.57539763  0.94087399  0.08994376  1.26786215\n",
      "   0.92966204  0.69916977 -4.68124867  0.15877645]\n",
      " [-0.14605146  0.34479534 -0.77499656  0.80282882  0.86443277 -0.33637169\n",
      "   1.30320909  1.46284482  1.08250531  1.41781044]\n",
      " [ 1.52608244 -1.69632117  1.17289596  0.7247211   0.11138618  1.15513906\n",
      "   1.21807845  1.41751299  0.91556749  0.76066252]\n",
      " [ 1.30167017  1.41106407  0.50686908  1.37374919  1.26150781  1.14643554\n",
      "   1.02514299  1.53383799 -0.50660255 -1.00477269]\n",
      " [ 1.56184125  1.03692756  0.85919383  0.51700875  1.1458001  -0.40093216\n",
      "  -1.23034896  1.36404891  1.2167732  -1.09301377]\n",
      " [ 1.07157363  1.37093476  0.41730097  1.06788676  1.22039677  1.2916384\n",
      "   1.02534057  1.53821484  1.58251007 -0.55577137]\n",
      " [-0.06410983  0.76878782  1.12129221  0.87330682  1.4044406  -3.12833721\n",
      "   1.38133715  0.01957902  0.54287521  1.3651926 ]\n",
      " [ 1.58290347 -0.21710068  0.64566306  0.34247907 -0.02304248 -4.99862066\n",
      "   0.3444322  -2.88046116  1.03337386 -0.37127635]\n",
      " [ 1.55515913 -3.44971114  1.60528988 -0.28836935  0.49254898 -0.26677758\n",
      "   1.09903775  1.54526469 -1.35079105  0.81087411]]\n"
     ]
    }
   ],
   "source": [
    "an=np.log(n*5)\n",
    "print(an)"
   ]
  },
  {
   "cell_type": "code",
   "execution_count": null,
   "id": "1fb33394-8561-4e01-bae5-22ff566fd99b",
   "metadata": {},
   "outputs": [],
   "source": []
  }
 ],
 "metadata": {
  "kernelspec": {
   "display_name": "Python 3 (ipykernel)",
   "language": "python",
   "name": "python3"
  },
  "language_info": {
   "codemirror_mode": {
    "name": "ipython",
    "version": 3
   },
   "file_extension": ".py",
   "mimetype": "text/x-python",
   "name": "python",
   "nbconvert_exporter": "python",
   "pygments_lexer": "ipython3",
   "version": "3.11.8"
  }
 },
 "nbformat": 4,
 "nbformat_minor": 5
}
