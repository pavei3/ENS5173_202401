{
 "cells": [
  {
   "cell_type": "markdown",
   "id": "5742106b-5e44-47a1-94e3-39fb18c41948",
   "metadata": {},
   "source": [
    "# Título tipo 1 \n",
    "## Título tipo 2\n"
   ]
  },
  {
   "cell_type": "code",
   "execution_count": null,
   "id": "b0f94bb7-1fd6-4f03-ba27-e5154d5c8b64",
   "metadata": {},
   "outputs": [],
   "source": [
    "a = 1\n",
    "x=2\n",
    "c=7\n",
    "i=12"
   ]
  }
 ],
 "metadata": {
  "kernelspec": {
   "display_name": "Python 3 (ipykernel)",
   "language": "python",
   "name": "python3"
  },
  "language_info": {
   "codemirror_mode": {
    "name": "ipython",
    "version": 3
   },
   "file_extension": ".py",
   "mimetype": "text/x-python",
   "name": "python",
   "nbconvert_exporter": "python",
   "pygments_lexer": "ipython3",
   "version": "3.11.8"
  }
 },
 "nbformat": 4,
 "nbformat_minor": 5
}
